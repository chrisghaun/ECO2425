{
 "cells": [
  {
   "cell_type": "code",
   "execution_count": 1,
   "id": "05f8c7e5-4c3b-4130-a7ca-95ff36d30bcc",
   "metadata": {
    "editable": true,
    "slideshow": {
     "slide_type": ""
    },
    "tags": []
   },
   "outputs": [
    {
     "name": "stdout",
     "output_type": "stream",
     "text": [
      "Requirement already satisfied: great_tables in /opt/anaconda3/lib/python3.12/site-packages (0.12.0)\n",
      "Requirement already satisfied: commonmark>=0.9.1 in /opt/anaconda3/lib/python3.12/site-packages (from great_tables) (0.9.1)\n",
      "Requirement already satisfied: htmltools>=0.4.1 in /opt/anaconda3/lib/python3.12/site-packages (from great_tables) (0.5.3)\n",
      "Requirement already satisfied: importlib-metadata in /opt/anaconda3/lib/python3.12/site-packages (from great_tables) (7.0.1)\n",
      "Requirement already satisfied: typing-extensions>=3.10.0.0 in /opt/anaconda3/lib/python3.12/site-packages (from great_tables) (4.11.0)\n",
      "Requirement already satisfied: numpy>=1.22.4 in /opt/anaconda3/lib/python3.12/site-packages (from great_tables) (1.26.4)\n",
      "Requirement already satisfied: Babel>=2.13.1 in /opt/anaconda3/lib/python3.12/site-packages (from great_tables) (2.16.0)\n",
      "Requirement already satisfied: importlib-resources in /opt/anaconda3/lib/python3.12/site-packages (from great_tables) (6.4.5)\n",
      "Requirement already satisfied: packaging>=20.9 in /opt/anaconda3/lib/python3.12/site-packages (from htmltools>=0.4.1->great_tables) (23.2)\n",
      "Requirement already satisfied: zipp>=0.5 in /opt/anaconda3/lib/python3.12/site-packages (from importlib-metadata->great_tables) (3.17.0)\n",
      "Requirement already satisfied: graphviz in /opt/anaconda3/lib/python3.12/site-packages (0.20.3)\n",
      "Requirement already satisfied: dowhy in /opt/anaconda3/lib/python3.12/site-packages (0.8)\n",
      "Requirement already satisfied: numpy>=1.15 in /opt/anaconda3/lib/python3.12/site-packages (from dowhy) (1.26.4)\n",
      "Requirement already satisfied: scipy in /opt/anaconda3/lib/python3.12/site-packages (from dowhy) (1.11.4)\n",
      "Requirement already satisfied: statsmodels in /opt/anaconda3/lib/python3.12/site-packages (from dowhy) (0.14.2)\n",
      "Requirement already satisfied: pandas>=0.24 in /opt/anaconda3/lib/python3.12/site-packages (from dowhy) (2.2.2)\n",
      "Requirement already satisfied: networkx>=2.0 in /opt/anaconda3/lib/python3.12/site-packages (from dowhy) (3.2.1)\n",
      "Requirement already satisfied: sympy>=1.4 in /opt/anaconda3/lib/python3.12/site-packages (from dowhy) (1.12)\n",
      "Requirement already satisfied: scikit-learn in /opt/anaconda3/lib/python3.12/site-packages (from dowhy) (1.4.2)\n",
      "Requirement already satisfied: pydot>=1.4 in /opt/anaconda3/lib/python3.12/site-packages (from dowhy) (3.0.2)\n",
      "Requirement already satisfied: python-dateutil>=2.8.2 in /opt/anaconda3/lib/python3.12/site-packages (from pandas>=0.24->dowhy) (2.9.0.post0)\n",
      "Requirement already satisfied: pytz>=2020.1 in /opt/anaconda3/lib/python3.12/site-packages (from pandas>=0.24->dowhy) (2024.1)\n",
      "Requirement already satisfied: tzdata>=2022.7 in /opt/anaconda3/lib/python3.12/site-packages (from pandas>=0.24->dowhy) (2023.3)\n",
      "Requirement already satisfied: pyparsing>=3.0.9 in /opt/anaconda3/lib/python3.12/site-packages (from pydot>=1.4->dowhy) (3.0.9)\n",
      "Requirement already satisfied: mpmath>=0.19 in /opt/anaconda3/lib/python3.12/site-packages (from sympy>=1.4->dowhy) (1.3.0)\n",
      "Requirement already satisfied: joblib>=1.2.0 in /opt/anaconda3/lib/python3.12/site-packages (from scikit-learn->dowhy) (1.4.2)\n",
      "Requirement already satisfied: threadpoolctl>=2.0.0 in /opt/anaconda3/lib/python3.12/site-packages (from scikit-learn->dowhy) (2.2.0)\n",
      "Requirement already satisfied: patsy>=0.5.6 in /opt/anaconda3/lib/python3.12/site-packages (from statsmodels->dowhy) (0.5.6)\n",
      "Requirement already satisfied: packaging>=21.3 in /opt/anaconda3/lib/python3.12/site-packages (from statsmodels->dowhy) (23.2)\n",
      "Requirement already satisfied: six in /opt/anaconda3/lib/python3.12/site-packages (from patsy>=0.5.6->statsmodels->dowhy) (1.16.0)\n",
      "Requirement already satisfied: lightgbm in /opt/anaconda3/lib/python3.12/site-packages (4.5.0)\n",
      "Requirement already satisfied: numpy>=1.17.0 in /opt/anaconda3/lib/python3.12/site-packages (from lightgbm) (1.26.4)\n",
      "Requirement already satisfied: scipy in /opt/anaconda3/lib/python3.12/site-packages (from lightgbm) (1.11.4)\n",
      "Requirement already satisfied: econml in /opt/anaconda3/lib/python3.12/site-packages (0.15.1)\n",
      "Requirement already satisfied: numpy<2 in /opt/anaconda3/lib/python3.12/site-packages (from econml) (1.26.4)\n",
      "Requirement already satisfied: scipy>1.4.0 in /opt/anaconda3/lib/python3.12/site-packages (from econml) (1.11.4)\n",
      "Requirement already satisfied: scikit-learn<1.6,>=1.0 in /opt/anaconda3/lib/python3.12/site-packages (from econml) (1.4.2)\n",
      "Requirement already satisfied: sparse in /opt/anaconda3/lib/python3.12/site-packages (from econml) (0.15.4)\n",
      "Requirement already satisfied: joblib>=0.13.0 in /opt/anaconda3/lib/python3.12/site-packages (from econml) (1.4.2)\n",
      "Requirement already satisfied: statsmodels>=0.10 in /opt/anaconda3/lib/python3.12/site-packages (from econml) (0.14.2)\n",
      "Requirement already satisfied: pandas>1.0 in /opt/anaconda3/lib/python3.12/site-packages (from econml) (2.2.2)\n",
      "Requirement already satisfied: shap<0.44.0,>=0.38.1 in /opt/anaconda3/lib/python3.12/site-packages (from econml) (0.43.0)\n",
      "Requirement already satisfied: lightgbm in /opt/anaconda3/lib/python3.12/site-packages (from econml) (4.5.0)\n",
      "Requirement already satisfied: packaging in /opt/anaconda3/lib/python3.12/site-packages (from econml) (23.2)\n",
      "Requirement already satisfied: python-dateutil>=2.8.2 in /opt/anaconda3/lib/python3.12/site-packages (from pandas>1.0->econml) (2.9.0.post0)\n",
      "Requirement already satisfied: pytz>=2020.1 in /opt/anaconda3/lib/python3.12/site-packages (from pandas>1.0->econml) (2024.1)\n",
      "Requirement already satisfied: tzdata>=2022.7 in /opt/anaconda3/lib/python3.12/site-packages (from pandas>1.0->econml) (2023.3)\n",
      "Requirement already satisfied: threadpoolctl>=2.0.0 in /opt/anaconda3/lib/python3.12/site-packages (from scikit-learn<1.6,>=1.0->econml) (2.2.0)\n",
      "Requirement already satisfied: tqdm>=4.27.0 in /opt/anaconda3/lib/python3.12/site-packages (from shap<0.44.0,>=0.38.1->econml) (4.66.4)\n",
      "Requirement already satisfied: slicer==0.0.7 in /opt/anaconda3/lib/python3.12/site-packages (from shap<0.44.0,>=0.38.1->econml) (0.0.7)\n",
      "Requirement already satisfied: numba in /opt/anaconda3/lib/python3.12/site-packages (from shap<0.44.0,>=0.38.1->econml) (0.59.1)\n",
      "Requirement already satisfied: cloudpickle in /opt/anaconda3/lib/python3.12/site-packages (from shap<0.44.0,>=0.38.1->econml) (2.2.1)\n",
      "Requirement already satisfied: patsy>=0.5.6 in /opt/anaconda3/lib/python3.12/site-packages (from statsmodels>=0.10->econml) (0.5.6)\n",
      "Requirement already satisfied: llvmlite<0.43,>=0.42.0dev0 in /opt/anaconda3/lib/python3.12/site-packages (from numba->shap<0.44.0,>=0.38.1->econml) (0.42.0)\n",
      "Requirement already satisfied: six in /opt/anaconda3/lib/python3.12/site-packages (from patsy>=0.5.6->statsmodels>=0.10->econml) (1.16.0)\n"
     ]
    }
   ],
   "source": [
    "!pip install ISLP -q\n",
    "!pip install great_tables\n",
    "!pip install graphviz\n",
    "!pip install dowhy\n",
    "!pip install lightgbm\n",
    "!pip install econml"
   ]
  },
  {
   "cell_type": "code",
   "execution_count": 2,
   "id": "8a880eaa-191f-4452-ab3b-bbef2154c128",
   "metadata": {},
   "outputs": [],
   "source": [
    "import numpy as np\n",
    "import statsmodels.api as sm\n",
    "import pandas as pd\n",
    "import networkx as nx\n",
    "from great_tables import GT as GT\n",
    "from matplotlib.pyplot import subplots\n",
    "from matplotlib import pyplot as plt\n",
    "from statsmodels.api import OLS\n",
    "from linearmodels import PanelOLS\n",
    "import sklearn.model_selection as skm\n",
    "import sklearn.linear_model as skl\n",
    "from sklearn.preprocessing import StandardScaler\n",
    "from scipy import stats\n",
    "\n",
    "from sklearn.pipeline import Pipeline\n",
    "from sklearn.decomposition import PCA\n",
    "from sklearn.cross_decomposition import PLSRegression\n",
    "from ISLP.models import ModelSpec as MS\n",
    "from functools import partial\n",
    "\n",
    "from sklearn.tree import (DecisionTreeClassifier as DTC,\n",
    "                          DecisionTreeRegressor as DTR,\n",
    "                          plot_tree,\n",
    "                          export_text)\n",
    "from sklearn.metrics import (accuracy_score,\n",
    "                             log_loss)\n",
    "from sklearn.ensemble import \\\n",
    "     (RandomForestRegressor as RF,\n",
    "      GradientBoostingRegressor as GBR)\n",
    "from ISLP.bart import BART\n",
    "\n",
    "from copy import deepcopy\n",
    "from sklearn.metrics import mean_absolute_percentage_error\n",
    "import dowhy\n",
    "from dowhy import CausalModel\n",
    "from sklearn.linear_model import LinearRegression, LogisticRegression, LassoCV\n",
    "from sklearn.ensemble import RandomForestRegressor, GradientBoostingRegressor\n",
    "from lightgbm import LGBMRegressor, LGBMClassifier\n",
    "import networkx as nx\n",
    "from tqdm import tqdm\n",
    "import matplotlib.pyplot as plt\n",
    "plt.style.use('fivethirtyeight')\n",
    "import graphviz\n",
    "\n",
    "import seaborn as sns"
   ]
  },
  {
   "cell_type": "code",
   "execution_count": 3,
   "id": "1b0cf875-3313-4797-903f-abdb8ea024b9",
   "metadata": {},
   "outputs": [],
   "source": [
    "df = pd.read_stata('./replication_sample.dta')\n",
    "df_main = df[df['main_sample']==1].copy()"
   ]
  },
  {
   "cell_type": "code",
   "execution_count": 4,
   "id": "dc8d6216-8b2a-4aad-83e0-86b0c7d8147f",
   "metadata": {},
   "outputs": [
    {
     "data": {
      "text/html": [
       "<div>\n",
       "<style scoped>\n",
       "    .dataframe tbody tr th:only-of-type {\n",
       "        vertical-align: middle;\n",
       "    }\n",
       "\n",
       "    .dataframe tbody tr th {\n",
       "        vertical-align: top;\n",
       "    }\n",
       "\n",
       "    .dataframe thead th {\n",
       "        text-align: right;\n",
       "    }\n",
       "</style>\n",
       "<table border=\"1\" class=\"dataframe\">\n",
       "  <thead>\n",
       "    <tr style=\"text-align: right;\">\n",
       "      <th></th>\n",
       "      <th>year</th>\n",
       "      <th>newhclust</th>\n",
       "      <th>HHI_bar</th>\n",
       "      <th>r_hat</th>\n",
       "      <th>num_words</th>\n",
       "      <th>num_char</th>\n",
       "      <th>long_tail</th>\n",
       "      <th>branded</th>\n",
       "      <th>numind</th>\n",
       "      <th>numberofresults</th>\n",
       "      <th>...</th>\n",
       "      <th>main_sample</th>\n",
       "      <th>ind_sample</th>\n",
       "      <th>own_branded</th>\n",
       "      <th>other_branded</th>\n",
       "      <th>negative_HHIchange</th>\n",
       "      <th>shiftmerge</th>\n",
       "      <th>sapientmerge</th>\n",
       "      <th>merklemerge</th>\n",
       "      <th>forsmanmerge</th>\n",
       "      <th>HHI_binary</th>\n",
       "    </tr>\n",
       "  </thead>\n",
       "  <tbody>\n",
       "    <tr>\n",
       "      <th>61</th>\n",
       "      <td>2015</td>\n",
       "      <td>100302</td>\n",
       "      <td>0.250000</td>\n",
       "      <td>67775.184570</td>\n",
       "      <td>1.666667</td>\n",
       "      <td>12.666667</td>\n",
       "      <td>0.000000</td>\n",
       "      <td>0.000000</td>\n",
       "      <td>1</td>\n",
       "      <td>0.001094</td>\n",
       "      <td>...</td>\n",
       "      <td>1</td>\n",
       "      <td>1</td>\n",
       "      <td>0.000000</td>\n",
       "      <td>0.0</td>\n",
       "      <td>1.0</td>\n",
       "      <td>0</td>\n",
       "      <td>0</td>\n",
       "      <td>0</td>\n",
       "      <td>0</td>\n",
       "      <td>True</td>\n",
       "    </tr>\n",
       "    <tr>\n",
       "      <th>62</th>\n",
       "      <td>2016</td>\n",
       "      <td>100302</td>\n",
       "      <td>0.250000</td>\n",
       "      <td>166625.486694</td>\n",
       "      <td>1.714286</td>\n",
       "      <td>10.142858</td>\n",
       "      <td>0.142857</td>\n",
       "      <td>0.000000</td>\n",
       "      <td>1</td>\n",
       "      <td>0.141296</td>\n",
       "      <td>...</td>\n",
       "      <td>1</td>\n",
       "      <td>1</td>\n",
       "      <td>0.000000</td>\n",
       "      <td>0.0</td>\n",
       "      <td>1.0</td>\n",
       "      <td>0</td>\n",
       "      <td>0</td>\n",
       "      <td>0</td>\n",
       "      <td>0</td>\n",
       "      <td>True</td>\n",
       "    </tr>\n",
       "    <tr>\n",
       "      <th>63</th>\n",
       "      <td>2017</td>\n",
       "      <td>100302</td>\n",
       "      <td>0.500000</td>\n",
       "      <td>82004.383743</td>\n",
       "      <td>1.500000</td>\n",
       "      <td>9.000000</td>\n",
       "      <td>0.000000</td>\n",
       "      <td>0.000000</td>\n",
       "      <td>1</td>\n",
       "      <td>0.129090</td>\n",
       "      <td>...</td>\n",
       "      <td>1</td>\n",
       "      <td>1</td>\n",
       "      <td>0.000000</td>\n",
       "      <td>0.0</td>\n",
       "      <td>1.0</td>\n",
       "      <td>0</td>\n",
       "      <td>0</td>\n",
       "      <td>0</td>\n",
       "      <td>0</td>\n",
       "      <td>True</td>\n",
       "    </tr>\n",
       "    <tr>\n",
       "      <th>66</th>\n",
       "      <td>2016</td>\n",
       "      <td>100303</td>\n",
       "      <td>1.000000</td>\n",
       "      <td>26974.587952</td>\n",
       "      <td>1.800000</td>\n",
       "      <td>13.000000</td>\n",
       "      <td>0.000000</td>\n",
       "      <td>0.000000</td>\n",
       "      <td>1</td>\n",
       "      <td>0.046872</td>\n",
       "      <td>...</td>\n",
       "      <td>1</td>\n",
       "      <td>1</td>\n",
       "      <td>0.000000</td>\n",
       "      <td>0.0</td>\n",
       "      <td>0.0</td>\n",
       "      <td>0</td>\n",
       "      <td>0</td>\n",
       "      <td>0</td>\n",
       "      <td>0</td>\n",
       "      <td>True</td>\n",
       "    </tr>\n",
       "    <tr>\n",
       "      <th>69</th>\n",
       "      <td>2015</td>\n",
       "      <td>100304</td>\n",
       "      <td>1.000000</td>\n",
       "      <td>14800.044189</td>\n",
       "      <td>2.200000</td>\n",
       "      <td>14.000000</td>\n",
       "      <td>0.000000</td>\n",
       "      <td>0.200000</td>\n",
       "      <td>1</td>\n",
       "      <td>0.013334</td>\n",
       "      <td>...</td>\n",
       "      <td>1</td>\n",
       "      <td>1</td>\n",
       "      <td>0.200000</td>\n",
       "      <td>0.0</td>\n",
       "      <td>1.0</td>\n",
       "      <td>0</td>\n",
       "      <td>0</td>\n",
       "      <td>0</td>\n",
       "      <td>0</td>\n",
       "      <td>True</td>\n",
       "    </tr>\n",
       "    <tr>\n",
       "      <th>70</th>\n",
       "      <td>2016</td>\n",
       "      <td>100304</td>\n",
       "      <td>0.375000</td>\n",
       "      <td>27106.304688</td>\n",
       "      <td>2.000000</td>\n",
       "      <td>12.333333</td>\n",
       "      <td>0.000000</td>\n",
       "      <td>0.333333</td>\n",
       "      <td>1</td>\n",
       "      <td>0.023741</td>\n",
       "      <td>...</td>\n",
       "      <td>1</td>\n",
       "      <td>1</td>\n",
       "      <td>0.333333</td>\n",
       "      <td>0.0</td>\n",
       "      <td>1.0</td>\n",
       "      <td>0</td>\n",
       "      <td>0</td>\n",
       "      <td>0</td>\n",
       "      <td>0</td>\n",
       "      <td>True</td>\n",
       "    </tr>\n",
       "    <tr>\n",
       "      <th>71</th>\n",
       "      <td>2017</td>\n",
       "      <td>100304</td>\n",
       "      <td>0.555556</td>\n",
       "      <td>38390.056976</td>\n",
       "      <td>2.000000</td>\n",
       "      <td>13.000000</td>\n",
       "      <td>0.000000</td>\n",
       "      <td>0.250000</td>\n",
       "      <td>1</td>\n",
       "      <td>0.007591</td>\n",
       "      <td>...</td>\n",
       "      <td>1</td>\n",
       "      <td>1</td>\n",
       "      <td>0.250000</td>\n",
       "      <td>0.0</td>\n",
       "      <td>1.0</td>\n",
       "      <td>0</td>\n",
       "      <td>0</td>\n",
       "      <td>0</td>\n",
       "      <td>0</td>\n",
       "      <td>True</td>\n",
       "    </tr>\n",
       "    <tr>\n",
       "      <th>78</th>\n",
       "      <td>2016</td>\n",
       "      <td>100306</td>\n",
       "      <td>0.204615</td>\n",
       "      <td>13314.781036</td>\n",
       "      <td>1.600000</td>\n",
       "      <td>12.200000</td>\n",
       "      <td>0.000000</td>\n",
       "      <td>0.000000</td>\n",
       "      <td>1</td>\n",
       "      <td>0.000660</td>\n",
       "      <td>...</td>\n",
       "      <td>1</td>\n",
       "      <td>1</td>\n",
       "      <td>0.000000</td>\n",
       "      <td>0.0</td>\n",
       "      <td>1.0</td>\n",
       "      <td>0</td>\n",
       "      <td>0</td>\n",
       "      <td>0</td>\n",
       "      <td>0</td>\n",
       "      <td>False</td>\n",
       "    </tr>\n",
       "    <tr>\n",
       "      <th>79</th>\n",
       "      <td>2017</td>\n",
       "      <td>100306</td>\n",
       "      <td>0.500000</td>\n",
       "      <td>10846.478394</td>\n",
       "      <td>1.666667</td>\n",
       "      <td>10.000000</td>\n",
       "      <td>0.000000</td>\n",
       "      <td>0.000000</td>\n",
       "      <td>1</td>\n",
       "      <td>0.008772</td>\n",
       "      <td>...</td>\n",
       "      <td>1</td>\n",
       "      <td>1</td>\n",
       "      <td>0.000000</td>\n",
       "      <td>0.0</td>\n",
       "      <td>1.0</td>\n",
       "      <td>0</td>\n",
       "      <td>0</td>\n",
       "      <td>0</td>\n",
       "      <td>0</td>\n",
       "      <td>True</td>\n",
       "    </tr>\n",
       "    <tr>\n",
       "      <th>82</th>\n",
       "      <td>2017</td>\n",
       "      <td>100308</td>\n",
       "      <td>0.234568</td>\n",
       "      <td>12477.594727</td>\n",
       "      <td>2.000000</td>\n",
       "      <td>14.000000</td>\n",
       "      <td>0.000000</td>\n",
       "      <td>0.000000</td>\n",
       "      <td>1</td>\n",
       "      <td>0.001420</td>\n",
       "      <td>...</td>\n",
       "      <td>1</td>\n",
       "      <td>1</td>\n",
       "      <td>0.000000</td>\n",
       "      <td>0.0</td>\n",
       "      <td>1.0</td>\n",
       "      <td>0</td>\n",
       "      <td>0</td>\n",
       "      <td>0</td>\n",
       "      <td>0</td>\n",
       "      <td>False</td>\n",
       "    </tr>\n",
       "  </tbody>\n",
       "</table>\n",
       "<p>10 rows × 32 columns</p>\n",
       "</div>"
      ],
      "text/plain": [
       "    year  newhclust   HHI_bar          r_hat  num_words   num_char  long_tail  \\\n",
       "61  2015     100302  0.250000   67775.184570   1.666667  12.666667   0.000000   \n",
       "62  2016     100302  0.250000  166625.486694   1.714286  10.142858   0.142857   \n",
       "63  2017     100302  0.500000   82004.383743   1.500000   9.000000   0.000000   \n",
       "66  2016     100303  1.000000   26974.587952   1.800000  13.000000   0.000000   \n",
       "69  2015     100304  1.000000   14800.044189   2.200000  14.000000   0.000000   \n",
       "70  2016     100304  0.375000   27106.304688   2.000000  12.333333   0.000000   \n",
       "71  2017     100304  0.555556   38390.056976   2.000000  13.000000   0.000000   \n",
       "78  2016     100306  0.204615   13314.781036   1.600000  12.200000   0.000000   \n",
       "79  2017     100306  0.500000   10846.478394   1.666667  10.000000   0.000000   \n",
       "82  2017     100308  0.234568   12477.594727   2.000000  14.000000   0.000000   \n",
       "\n",
       "     branded  numind  numberofresults  ...  main_sample  ind_sample  \\\n",
       "61  0.000000       1         0.001094  ...            1           1   \n",
       "62  0.000000       1         0.141296  ...            1           1   \n",
       "63  0.000000       1         0.129090  ...            1           1   \n",
       "66  0.000000       1         0.046872  ...            1           1   \n",
       "69  0.200000       1         0.013334  ...            1           1   \n",
       "70  0.333333       1         0.023741  ...            1           1   \n",
       "71  0.250000       1         0.007591  ...            1           1   \n",
       "78  0.000000       1         0.000660  ...            1           1   \n",
       "79  0.000000       1         0.008772  ...            1           1   \n",
       "82  0.000000       1         0.001420  ...            1           1   \n",
       "\n",
       "    own_branded  other_branded  negative_HHIchange  shiftmerge  sapientmerge  \\\n",
       "61     0.000000            0.0                 1.0           0             0   \n",
       "62     0.000000            0.0                 1.0           0             0   \n",
       "63     0.000000            0.0                 1.0           0             0   \n",
       "66     0.000000            0.0                 0.0           0             0   \n",
       "69     0.200000            0.0                 1.0           0             0   \n",
       "70     0.333333            0.0                 1.0           0             0   \n",
       "71     0.250000            0.0                 1.0           0             0   \n",
       "78     0.000000            0.0                 1.0           0             0   \n",
       "79     0.000000            0.0                 1.0           0             0   \n",
       "82     0.000000            0.0                 1.0           0             0   \n",
       "\n",
       "    merklemerge  forsmanmerge  HHI_binary  \n",
       "61            0             0        True  \n",
       "62            0             0        True  \n",
       "63            0             0        True  \n",
       "66            0             0        True  \n",
       "69            0             0        True  \n",
       "70            0             0        True  \n",
       "71            0             0        True  \n",
       "78            0             0       False  \n",
       "79            0             0        True  \n",
       "82            0             0       False  \n",
       "\n",
       "[10 rows x 32 columns]"
      ]
     },
     "execution_count": 4,
     "metadata": {},
     "output_type": "execute_result"
    }
   ],
   "source": [
    "df_main['HHI_binary'] = df_main['HHI_hat'] >= 0.25\n",
    "df_main = df_main.drop(columns='HHI_hat')\n",
    "df_main.head(10)"
   ]
  },
  {
   "cell_type": "code",
   "execution_count": 5,
   "id": "75d82712-f9c0-4b2c-9adb-8b80af81b19f",
   "metadata": {},
   "outputs": [
    {
     "data": {
      "text/html": [
       "<div>\n",
       "<style scoped>\n",
       "    .dataframe tbody tr th:only-of-type {\n",
       "        vertical-align: middle;\n",
       "    }\n",
       "\n",
       "    .dataframe tbody tr th {\n",
       "        vertical-align: top;\n",
       "    }\n",
       "\n",
       "    .dataframe thead th {\n",
       "        text-align: right;\n",
       "    }\n",
       "</style>\n",
       "<table border=\"1\" class=\"dataframe\">\n",
       "  <thead>\n",
       "    <tr style=\"text-align: right;\">\n",
       "      <th></th>\n",
       "      <th>year</th>\n",
       "      <th>newhclust</th>\n",
       "      <th>num_words</th>\n",
       "      <th>num_char</th>\n",
       "      <th>long_tail</th>\n",
       "      <th>branded</th>\n",
       "      <th>numind</th>\n",
       "      <th>numberofresults</th>\n",
       "      <th>logr_hat</th>\n",
       "      <th>cluster</th>\n",
       "      <th>own_branded</th>\n",
       "      <th>other_branded</th>\n",
       "      <th>HHI_binary</th>\n",
       "    </tr>\n",
       "  </thead>\n",
       "  <tbody>\n",
       "    <tr>\n",
       "      <th>61</th>\n",
       "      <td>2015</td>\n",
       "      <td>100302</td>\n",
       "      <td>1.666667</td>\n",
       "      <td>12.666667</td>\n",
       "      <td>0.000000</td>\n",
       "      <td>0.0</td>\n",
       "      <td>1</td>\n",
       "      <td>0.001094</td>\n",
       "      <td>11.123951</td>\n",
       "      <td>1003</td>\n",
       "      <td>0.0</td>\n",
       "      <td>0.0</td>\n",
       "      <td>True</td>\n",
       "    </tr>\n",
       "    <tr>\n",
       "      <th>69</th>\n",
       "      <td>2015</td>\n",
       "      <td>100304</td>\n",
       "      <td>2.200000</td>\n",
       "      <td>14.000000</td>\n",
       "      <td>0.000000</td>\n",
       "      <td>0.2</td>\n",
       "      <td>1</td>\n",
       "      <td>0.013334</td>\n",
       "      <td>9.602386</td>\n",
       "      <td>1003</td>\n",
       "      <td>0.2</td>\n",
       "      <td>0.0</td>\n",
       "      <td>True</td>\n",
       "    </tr>\n",
       "    <tr>\n",
       "      <th>97</th>\n",
       "      <td>2015</td>\n",
       "      <td>100314</td>\n",
       "      <td>2.000000</td>\n",
       "      <td>9.000000</td>\n",
       "      <td>0.000000</td>\n",
       "      <td>0.0</td>\n",
       "      <td>1</td>\n",
       "      <td>0.002960</td>\n",
       "      <td>9.635104</td>\n",
       "      <td>1003</td>\n",
       "      <td>0.0</td>\n",
       "      <td>0.0</td>\n",
       "      <td>True</td>\n",
       "    </tr>\n",
       "    <tr>\n",
       "      <th>168</th>\n",
       "      <td>2015</td>\n",
       "      <td>100801</td>\n",
       "      <td>2.405714</td>\n",
       "      <td>15.222857</td>\n",
       "      <td>0.160000</td>\n",
       "      <td>0.0</td>\n",
       "      <td>1</td>\n",
       "      <td>0.014277</td>\n",
       "      <td>10.158752</td>\n",
       "      <td>1008</td>\n",
       "      <td>0.0</td>\n",
       "      <td>0.0</td>\n",
       "      <td>True</td>\n",
       "    </tr>\n",
       "    <tr>\n",
       "      <th>176</th>\n",
       "      <td>2015</td>\n",
       "      <td>100803</td>\n",
       "      <td>2.888889</td>\n",
       "      <td>17.888889</td>\n",
       "      <td>0.333333</td>\n",
       "      <td>0.0</td>\n",
       "      <td>1</td>\n",
       "      <td>0.082272</td>\n",
       "      <td>9.394144</td>\n",
       "      <td>1008</td>\n",
       "      <td>0.0</td>\n",
       "      <td>0.0</td>\n",
       "      <td>True</td>\n",
       "    </tr>\n",
       "  </tbody>\n",
       "</table>\n",
       "</div>"
      ],
      "text/plain": [
       "     year  newhclust  num_words   num_char  long_tail  branded  numind  \\\n",
       "61   2015     100302   1.666667  12.666667   0.000000      0.0       1   \n",
       "69   2015     100304   2.200000  14.000000   0.000000      0.2       1   \n",
       "97   2015     100314   2.000000   9.000000   0.000000      0.0       1   \n",
       "168  2015     100801   2.405714  15.222857   0.160000      0.0       1   \n",
       "176  2015     100803   2.888889  17.888889   0.333333      0.0       1   \n",
       "\n",
       "     numberofresults   logr_hat  cluster  own_branded  other_branded  \\\n",
       "61          0.001094  11.123951     1003          0.0            0.0   \n",
       "69          0.013334   9.602386     1003          0.2            0.0   \n",
       "97          0.002960   9.635104     1003          0.0            0.0   \n",
       "168         0.014277  10.158752     1008          0.0            0.0   \n",
       "176         0.082272   9.394144     1008          0.0            0.0   \n",
       "\n",
       "     HHI_binary  \n",
       "61         True  \n",
       "69         True  \n",
       "97         True  \n",
       "168        True  \n",
       "176        True  "
      ]
     },
     "execution_count": 5,
     "metadata": {},
     "output_type": "execute_result"
    }
   ],
   "source": [
    "df_main_pre = df_main[(df_main['timetoswitch'] < 0) | (df_main['evermerged'] == 0)].copy()\n",
    "df_main_t0 = df_main[(df_main['year'] == 2015)].copy()\n",
    "\n",
    "df_main = df_main.drop(columns=['allP_sample','main_sample','ind_sample','constant', 'logr_bar', 'r_hat', 'diffr_hat', 'HHI_bar', 'logcpc', 'logvol', 'lognum', 'timetoswitch', 'negative_HHIchange', 'shiftmerge', 'sapientmerge', 'merklemerge', 'forsmanmerge', 'evermerged', 'sim'])\n",
    "df_main_pre = df_main_pre.drop(columns=['allP_sample','main_sample','ind_sample','constant', 'logr_bar', 'r_hat', 'diffr_hat', 'HHI_bar', 'logcpc', 'logvol', 'lognum', 'timetoswitch', 'negative_HHIchange', 'shiftmerge', 'sapientmerge', 'merklemerge', 'forsmanmerge', 'evermerged', 'sim'])\n",
    "df_main_t0 = df_main_t0.drop(columns=['allP_sample','main_sample','ind_sample','constant', 'logr_bar', 'r_hat', 'diffr_hat', 'HHI_bar', 'logcpc', 'logvol', 'lognum', 'timetoswitch', 'negative_HHIchange', 'shiftmerge', 'sapientmerge', 'merklemerge', 'forsmanmerge', 'evermerged', 'sim'])\n",
    "\n",
    "df_main_t0.head()"
   ]
  },
  {
   "cell_type": "markdown",
   "id": "b79e275c-806d-421d-bbd5-114d69e4e47f",
   "metadata": {},
   "source": [
    "## Playing with Data Structure"
   ]
  },
  {
   "cell_type": "code",
   "execution_count": 7,
   "id": "80f0fb7f-60af-43be-bb72-d75ad38fedca",
   "metadata": {},
   "outputs": [],
   "source": [
    "# Use .loc to avoid the warning\n",
    "#df_main.loc[:, 'merged'] = 0  # This ensures 'merged' is added directly to df_main\n",
    "\n",
    "# Set 'merged' to 1 where 'timetoswitch' is greater than 0\n",
    "#df_main.loc[df_main['timetoswitch'] > 0, 'merged'] = 1\n",
    "\n",
    "# Check the result\n",
    "#df_main['merged'].describe()\n",
    "#df_main['evermerged'].describe()\n"
   ]
  },
  {
   "cell_type": "code",
   "execution_count": 8,
   "id": "83940ee5-9ae6-4ec5-bf39-a06782cfb327",
   "metadata": {},
   "outputs": [],
   "source": [
    "#wide_vars = ['newhclust','HHI_hat','logr_hat','long_tail','branded','cluster','year', 'timetoswitch', 'merged', 'evermerged']\n",
    "#index_vars = ['newhclust','cluster']\n",
    "#value_vars = ['HHI_hat','logr_hat','long_tail','branded', 'timetoswitch', 'merged', 'evermerged']\n",
    "\n",
    "#df_wide = df_main[wide_vars]\n",
    "#df_wide.shape\n",
    "\n",
    "#df_wide['idx'] = df_wide.groupby('newhclust').cumcount()+1\n",
    "\n",
    "#df_wide = df_main.pivot_table(index=index_vars, columns='year', \n",
    "                    #values=value_vars, aggfunc='first')\n",
    "\n",
    "#df_wide = df_wide.sort_index(axis=1, level=1)\n",
    "#df_wide.columns = [f'{x}_{y}' for x,y in df_wide.columns]\n",
    "#df_wide = df_wide.reset_index()\n",
    "\n",
    "#df_wide.head()"
   ]
  },
  {
   "cell_type": "markdown",
   "id": "b8429220-5240-44b4-a206-a2f5da659d9d",
   "metadata": {},
   "source": [
    "# Matching"
   ]
  },
  {
   "cell_type": "code",
   "execution_count": 10,
   "id": "04036479-6cb7-4860-abc8-b9f72b532702",
   "metadata": {},
   "outputs": [],
   "source": [
    "COLORS = [\n",
    "    '#00B0F0',\n",
    "    '#FF0000',\n",
    "    '#B0F000'\n",
    "]"
   ]
  },
  {
   "cell_type": "code",
   "execution_count": 11,
   "id": "fc2151db-ea0c-480d-857d-75ea5f7c4899",
   "metadata": {},
   "outputs": [],
   "source": [
    "# Construct the graph (the graph is constant for all iterations)\n",
    "#nodes = [\n",
    "#    ('logr_hat', 'log(Revenue)'),\n",
    "#    ('HHI_binary', 'HHI'), \n",
    "#    ('sim', 'M&A'),\n",
    "#    ('long_tail', 'Long-Tailed'),\n",
    "#    ('branded', 'Branded'),\n",
    "#    ('cluster', 'Thematic Cluster'),\n",
    "#    ('year', 'Year')\n",
    "#]\n",
    "\n",
    "nodes = [\n",
    "    'logr_hat',\n",
    "    'HHI_binary',\n",
    "    'sim',\n",
    "    'long_tail',\n",
    "    'branded',\n",
    "    'cluster',\n",
    "    'year'\n",
    "]\n",
    "     \n",
    "#labels = ['log(Revenue)', 'HHI', 'M&A', 'Long-Tailed Keywords', 'Branded Bidding', 'Thematic Cluster', 'Year']\n",
    "edges = [\n",
    "    ('HHI_binary', 'logr_hat'),\n",
    "    ('long_tail', 'logr_hat'),\n",
    "    ('branded', 'logr_hat'),\n",
    "    ('cluster', 'logr_hat'),\n",
    "    ('year', 'logr_hat'),\n",
    "    ('long_tail', 'HHI_binary'),\n",
    "    ('branded', 'HHI_binary'),\n",
    "    ('cluster', 'HHI_binary'),\n",
    "    ('year', 'HHI_binary'),\n",
    "    ('sim', 'HHI_binary'),\n",
    "    ('year', 'sim'),\n",
    "    ('cluster', 'sim')\n",
    "]\n",
    "\n",
    "# Generate the GML graph\n",
    "gml_string = 'graph [directed 1\\n'\n",
    "\n",
    "for node in nodes:\n",
    "    gml_string += f'\\tnode [id \"{node}\" label \"{node}\"]\\n'\n",
    "\n",
    "for edge in edges:\n",
    "    gml_string += f'\\tedge [source \"{edge[0]}\" target \"{edge[1]}\"]\\n'\n",
    "    \n",
    "gml_string += ']'"
   ]
  },
  {
   "cell_type": "code",
   "execution_count": 12,
   "id": "2fade18d-bf40-45ed-9acb-7f2643455fac",
   "metadata": {},
   "outputs": [],
   "source": [
    "# Instantiate the CausalModel \n",
    "model = CausalModel(\n",
    "    data=df_main,\n",
    "    treatment='HHI_binary',\n",
    "    outcome='logr_hat',\n",
    "    graph=gml_string\n",
    ")"
   ]
  },
  {
   "cell_type": "code",
   "execution_count": 13,
   "id": "712aa209-d8f1-46cc-a438-769c75079805",
   "metadata": {},
   "outputs": [
    {
     "data": {
      "image/png": "[encoded data removed]",
      "text/plain": [
       "<Figure size 800x600 with 1 Axes>"
      ]
     },
     "metadata": {},
     "output_type": "display_data"
    }
   ],
   "source": [
    "model.view_model()"
   ]
  },
  {
   "cell_type": "code",
   "execution_count": 14,
   "id": "efd470c0-53d5-4b60-b6d0-99b2bb0e6783",
   "metadata": {
    "scrolled": true
   },
   "outputs": [
    {
     "name": "stdout",
     "output_type": "stream",
     "text": [
      "Estimand type: nonparametric-ate\n",
      "\n",
      "### Estimand : 1\n",
      "Estimand name: backdoor\n",
      "Estimand expression:\n",
      "      d                                                  \n",
      "─────────────(E[logr_hat|cluster,long_tail,year,branded])\n",
      "d[HHI_binary]                                            \n",
      "Estimand assumption 1, Unconfoundedness: If U→{HHI_binary} and U→logr_hat then P(logr_hat|HHI_binary,cluster,long_tail,year,branded,U) = P(logr_hat|HHI_binary,cluster,long_tail,year,branded)\n",
      "\n",
      "### Estimand : 2\n",
      "Estimand name: iv\n",
      "No such variable(s) found!\n",
      "\n",
      "### Estimand : 3\n",
      "Estimand name: frontdoor\n",
      "No such variable(s) found!\n",
      "\n"
     ]
    }
   ],
   "source": [
    "# Get the estimand\n",
    "estimand = model.identify_effect()\n",
    "\n",
    "print(estimand)"
   ]
  },
  {
   "cell_type": "code",
   "execution_count": 15,
   "id": "b0619459-db55-4f12-8bbf-7d2f87e221e2",
   "metadata": {},
   "outputs": [
    {
     "name": "stdout",
     "output_type": "stream",
     "text": [
      "distance_matching\n"
     ]
    }
   ],
   "source": [
    "# Get estimate (Matching)\n",
    "estimate = model.estimate_effect(\n",
    "    identified_estimand=estimand,\n",
    "    method_name='backdoor.distance_matching',\n",
    "    target_units='ate',\n",
    "    method_params={'distance_metric': 'minkowski', 'p': 2})"
   ]
  },
  {
   "cell_type": "code",
   "execution_count": 16,
   "id": "5659491b-8ec1-45b4-a1cb-efd01cf62762",
   "metadata": {},
   "outputs": [
    {
     "data": {
      "image/png": "[encoded data removed]",
      "text/latex": [
       "$\\displaystyle -0.712202941266645$"
      ],
      "text/plain": [
       "-0.7122029412666447"
      ]
     },
     "execution_count": 16,
     "metadata": {},
     "output_type": "execute_result"
    }
   ],
   "source": [
    "estimate.value"
   ]
  },
  {
   "cell_type": "code",
   "execution_count": 17,
   "id": "dac6404e-d0d8-480b-b01f-5616c524cc3a",
   "metadata": {},
   "outputs": [
    {
     "name": "stdout",
     "output_type": "stream",
     "text": [
      "propensity_score_matching\n"
     ]
    },
    {
     "name": "stderr",
     "output_type": "stream",
     "text": [
      "/opt/anaconda3/lib/python3.12/site-packages/sklearn/utils/validation.py:1300: DataConversionWarning: A column-vector y was passed when a 1d array was expected. Please change the shape of y to (n_samples, ), for example using ravel().\n",
      "  y = column_or_1d(y, warn=True)\n"
     ]
    }
   ],
   "source": [
    "estimate = model.estimate_effect(identified_estimand=estimand,\n",
    "                                 method_name=\"backdoor.propensity_score_matching\",\n",
    "                                 target_units=\"ate\")"
   ]
  },
  {
   "cell_type": "code",
   "execution_count": 18,
   "id": "e390573a-4a97-4579-9e0a-14e147bd8024",
   "metadata": {},
   "outputs": [
    {
     "data": {
      "image/png": "[encoded data removed]",
      "text/latex": [
       "$\\displaystyle -0.729838539520041$"
      ],
      "text/plain": [
       "-0.7298385395200407"
      ]
     },
     "execution_count": 18,
     "metadata": {},
     "output_type": "execute_result"
    }
   ],
   "source": [
    "estimate.value"
   ]
  },
  {
   "cell_type": "code",
   "execution_count": 19,
   "id": "15de5bbd-8899-47f1-b999-e6b623a76f01",
   "metadata": {},
   "outputs": [
    {
     "name": "stdout",
     "output_type": "stream",
     "text": [
      "propensity_score_weighting\n"
     ]
    },
    {
     "name": "stderr",
     "output_type": "stream",
     "text": [
      "/opt/anaconda3/lib/python3.12/site-packages/sklearn/utils/validation.py:1300: DataConversionWarning: A column-vector y was passed when a 1d array was expected. Please change the shape of y to (n_samples, ), for example using ravel().\n",
      "  y = column_or_1d(y, warn=True)\n"
     ]
    }
   ],
   "source": [
    "estimate = model.estimate_effect(identified_estimand=estimand,\n",
    "                                 method_name=\"backdoor.propensity_score_weighting\",\n",
    "                                 target_units = \"ate\",\n",
    "                                 method_params={\"weighting_scheme\":\"ips_weight\"})"
   ]
  },
  {
   "cell_type": "code",
   "execution_count": 20,
   "id": "a64c6061-a8c7-4c01-8a4c-4336016e995e",
   "metadata": {},
   "outputs": [
    {
     "data": {
      "image/png": "[encoded data removed]",
      "text/latex": [
       "$\\displaystyle -0.792933176606246$"
      ],
      "text/plain": [
       "-0.7929331766062457"
      ]
     },
     "execution_count": 20,
     "metadata": {},
     "output_type": "execute_result"
    }
   ],
   "source": [
    "estimate.value"
   ]
  },
  {
   "cell_type": "code",
   "execution_count": 21,
   "id": "19131cc3-2cb9-49dd-abf4-92e41785f8b6",
   "metadata": {
    "scrolled": true
   },
   "outputs": [],
   "source": [
    "#refutation = model.refute_estimate(\n",
    "    #estimand=estimand, \n",
    "    #estimate=estimate,\n",
    "    #method_name='random_common_cause')"
   ]
  },
  {
   "cell_type": "code",
   "execution_count": 22,
   "id": "e85789ac-7867-46f7-934a-668d0c4703c3",
   "metadata": {},
   "outputs": [],
   "source": [
    "#print(refutation)"
   ]
  },
  {
   "cell_type": "code",
   "execution_count": 23,
   "id": "7f421cbf-9bd9-414c-b619-cc59d9c68c3c",
   "metadata": {},
   "outputs": [
    {
     "name": "stdout",
     "output_type": "stream",
     "text": [
      "[LightGBM] [Info] Auto-choosing row-wise multi-threading, the overhead of testing was 0.000951 seconds.\n",
      "You can set `force_row_wise=true` to remove the overhead.\n",
      "And if memory is not enough, you can set `force_col_wise=true`.\n",
      "[LightGBM] [Info] Total Bins 771\n",
      "[LightGBM] [Info] Number of data points in the train set: 26238, number of used features: 5\n",
      "[LightGBM] [Info] Start training from score 10.408713\n",
      "[LightGBM] [Info] Auto-choosing row-wise multi-threading, the overhead of testing was 0.020223 seconds.\n",
      "You can set `force_row_wise=true` to remove the overhead.\n",
      "And if memory is not enough, you can set `force_col_wise=true`.\n",
      "[LightGBM] [Info] Total Bins 771\n",
      "[LightGBM] [Info] Number of data points in the train set: 26238, number of used features: 5\n",
      "[LightGBM] [Info] Start training from score 10.415948\n",
      "[LightGBM] [Warning] No further splits with positive gain, best gain: -inf\n"
     ]
    }
   ],
   "source": [
    "# Get estimate (Doubly robust)\n",
    "estimate = model.estimate_effect(\n",
    "    identified_estimand=estimand,\n",
    "    method_name='backdoor.econml.dr.LinearDRLearner',\n",
    "    target_units='ate',\n",
    "    method_params={\n",
    "        'init_params': {\n",
    "            'model_propensity': LogisticRegression(),\n",
    "            'model_regression': LGBMRegressor(n_estimators=1000, max_depth=10)\n",
    "        },\n",
    "        'fit_params': {}\n",
    "    })"
   ]
  },
  {
   "cell_type": "code",
   "execution_count": 24,
   "id": "5f7a7f1d-0cf7-4ddf-b219-96b43c89cc91",
   "metadata": {},
   "outputs": [
    {
     "data": {
      "image/png": "[encoded data removed]",
      "text/latex": [
       "$\\displaystyle -0.727991916920345$"
      ],
      "text/plain": [
       "-0.7279919169203447"
      ]
     },
     "execution_count": 24,
     "metadata": {},
     "output_type": "execute_result"
    }
   ],
   "source": [
    "estimate.cate_estimates.mean()"
   ]
  },
  {
   "cell_type": "code",
   "execution_count": 39,
   "id": "fefacec6-7595-465b-a644-ee7749a976b2",
   "metadata": {},
   "outputs": [
    {
     "name": "stdout",
     "output_type": "stream",
     "text": [
      "[LightGBM] [Info] Auto-choosing row-wise multi-threading, the overhead of testing was 0.002061 seconds.\n",
      "You can set `force_row_wise=true` to remove the overhead.\n",
      "And if memory is not enough, you can set `force_col_wise=true`.\n",
      "[LightGBM] [Info] Total Bins 771\n",
      "[LightGBM] [Info] Number of data points in the train set: 26238, number of used features: 5\n",
      "[LightGBM] [Info] Start training from score 10.404837\n",
      "[LightGBM] [Warning] No further splits with positive gain, best gain: -inf\n",
      "[LightGBM] [Info] Auto-choosing row-wise multi-threading, the overhead of testing was 0.002361 seconds.\n",
      "You can set `force_row_wise=true` to remove the overhead.\n",
      "And if memory is not enough, you can set `force_col_wise=true`.\n",
      "[LightGBM] [Info] Total Bins 771\n",
      "[LightGBM] [Info] Number of data points in the train set: 26238, number of used features: 5\n",
      "[LightGBM] [Info] Start training from score 10.419825\n"
     ]
    },
    {
     "ename": "ValueError",
     "evalue": "Expected 2D array, got scalar array instead:\narray=None.\nReshape your data either using array.reshape(-1, 1) if your data has a single feature or array.reshape(1, -1) if it contains a single sample.",
     "output_type": "error",
     "traceback": [
      "\u001b[0;31m---------------------------------------------------------------------------\u001b[0m",
      "\u001b[0;31mValueError\u001b[0m                                Traceback (most recent call last)",
      "Cell \u001b[0;32mIn[39], line 2\u001b[0m\n\u001b[1;32m      1\u001b[0m \u001b[38;5;66;03m# Get estimate (Doubly robust)\u001b[39;00m\n\u001b[0;32m----> 2\u001b[0m estimate \u001b[38;5;241m=\u001b[39m model\u001b[38;5;241m.\u001b[39mestimate_effect(\n\u001b[1;32m      3\u001b[0m     identified_estimand\u001b[38;5;241m=\u001b[39mestimand,\n\u001b[1;32m      4\u001b[0m     method_name\u001b[38;5;241m=\u001b[39m\u001b[38;5;124m'\u001b[39m\u001b[38;5;124mbackdoor.econml.dr.DRLearner\u001b[39m\u001b[38;5;124m'\u001b[39m,\n\u001b[1;32m      5\u001b[0m     target_units\u001b[38;5;241m=\u001b[39m\u001b[38;5;124m'\u001b[39m\u001b[38;5;124mate\u001b[39m\u001b[38;5;124m'\u001b[39m,\n\u001b[1;32m      6\u001b[0m     method_params\u001b[38;5;241m=\u001b[39m{\n\u001b[1;32m      7\u001b[0m         \u001b[38;5;124m'\u001b[39m\u001b[38;5;124minit_params\u001b[39m\u001b[38;5;124m'\u001b[39m: {\n\u001b[1;32m      8\u001b[0m             \u001b[38;5;124m'\u001b[39m\u001b[38;5;124mmodel_propensity\u001b[39m\u001b[38;5;124m'\u001b[39m: LogisticRegression(),\n\u001b[1;32m      9\u001b[0m             \u001b[38;5;124m'\u001b[39m\u001b[38;5;124mmodel_regression\u001b[39m\u001b[38;5;124m'\u001b[39m: LGBMRegressor(n_estimators\u001b[38;5;241m=\u001b[39m\u001b[38;5;241m1000\u001b[39m, max_depth\u001b[38;5;241m=\u001b[39m\u001b[38;5;241m10\u001b[39m),\n\u001b[1;32m     10\u001b[0m             \u001b[38;5;124m'\u001b[39m\u001b[38;5;124mmodel_final\u001b[39m\u001b[38;5;124m'\u001b[39m: LGBMRegressor(n_estimators\u001b[38;5;241m=\u001b[39m\u001b[38;5;241m500\u001b[39m, max_depth\u001b[38;5;241m=\u001b[39m\u001b[38;5;241m10\u001b[39m),\n\u001b[1;32m     11\u001b[0m         },\n\u001b[1;32m     12\u001b[0m         \u001b[38;5;124m'\u001b[39m\u001b[38;5;124mfit_params\u001b[39m\u001b[38;5;124m'\u001b[39m: {}\n\u001b[1;32m     13\u001b[0m     })\n",
      "File \u001b[0;32m/opt/anaconda3/lib/python3.12/site-packages/dowhy/causal_model.py:316\u001b[0m, in \u001b[0;36mCausalModel.estimate_effect\u001b[0;34m(self, identified_estimand, method_name, control_value, treatment_value, test_significance, evaluate_effect_strength, confidence_intervals, target_units, effect_modifiers, fit_estimator, method_params)\u001b[0m\n\u001b[1;32m    312\u001b[0m     \u001b[38;5;28;01massert\u001b[39;00m \u001b[38;5;28mself\u001b[39m\u001b[38;5;241m.\u001b[39mcausal_estimator \u001b[38;5;129;01mis\u001b[39;00m \u001b[38;5;129;01mnot\u001b[39;00m \u001b[38;5;28;01mNone\u001b[39;00m\n\u001b[1;32m    313\u001b[0m     \u001b[38;5;28mself\u001b[39m\u001b[38;5;241m.\u001b[39mcausal_estimator\u001b[38;5;241m.\u001b[39mupdate_input(treatment_value, control_value,\n\u001b[1;32m    314\u001b[0m             target_units)\n\u001b[0;32m--> 316\u001b[0m estimate \u001b[38;5;241m=\u001b[39m \u001b[38;5;28mself\u001b[39m\u001b[38;5;241m.\u001b[39mcausal_estimator\u001b[38;5;241m.\u001b[39mestimate_effect()\n\u001b[1;32m    317\u001b[0m \u001b[38;5;66;03m# Store parameters inside estimate object for refutation methods\u001b[39;00m\n\u001b[1;32m    318\u001b[0m \u001b[38;5;66;03m# TODO: This add_params needs to move to the estimator class\u001b[39;00m\n\u001b[1;32m    319\u001b[0m \u001b[38;5;66;03m# inside estimate_effect and estimate_conditional_effect\u001b[39;00m\n\u001b[1;32m    320\u001b[0m estimate\u001b[38;5;241m.\u001b[39madd_params(\n\u001b[1;32m    321\u001b[0m     estimand_type\u001b[38;5;241m=\u001b[39midentified_estimand\u001b[38;5;241m.\u001b[39mestimand_type,\n\u001b[1;32m    322\u001b[0m     estimator_class\u001b[38;5;241m=\u001b[39mcausal_estimator_class,\n\u001b[0;32m   (...)\u001b[0m\n\u001b[1;32m    328\u001b[0m     method_params\u001b[38;5;241m=\u001b[39mmethod_params\n\u001b[1;32m    329\u001b[0m )\n",
      "File \u001b[0;32m/opt/anaconda3/lib/python3.12/site-packages/dowhy/causal_estimator.py:191\u001b[0m, in \u001b[0;36mCausalEstimator.estimate_effect\u001b[0;34m(self)\u001b[0m\n\u001b[1;32m    183\u001b[0m \u001b[38;5;28;01mdef\u001b[39;00m \u001b[38;5;21mestimate_effect\u001b[39m(\u001b[38;5;28mself\u001b[39m):\n\u001b[1;32m    184\u001b[0m \u001b[38;5;250m    \u001b[39m\u001b[38;5;124;03m\"\"\"Base estimation method that calls the estimate_effect method of its calling subclass.\u001b[39;00m\n\u001b[1;32m    185\u001b[0m \n\u001b[1;32m    186\u001b[0m \u001b[38;5;124;03m    Can optionally also test significance and estimate effect strength for any returned estimate.\u001b[39;00m\n\u001b[0;32m   (...)\u001b[0m\n\u001b[1;32m    189\u001b[0m \u001b[38;5;124;03m    :returns: A CausalEstimate instance that contains point estimates of average and conditional effects. Based on the parameters provided, it optionally includes confidence intervals, standard errors,statistical significance and other statistical parameters.\u001b[39;00m\n\u001b[1;32m    190\u001b[0m \u001b[38;5;124;03m    \"\"\"\u001b[39;00m\n\u001b[0;32m--> 191\u001b[0m     est \u001b[38;5;241m=\u001b[39m \u001b[38;5;28mself\u001b[39m\u001b[38;5;241m.\u001b[39m_estimate_effect()\n\u001b[1;32m    192\u001b[0m     est\u001b[38;5;241m.\u001b[39madd_estimator(\u001b[38;5;28mself\u001b[39m)\n\u001b[1;32m    194\u001b[0m     \u001b[38;5;28;01mif\u001b[39;00m \u001b[38;5;28mself\u001b[39m\u001b[38;5;241m.\u001b[39m_significance_test:\n",
      "File \u001b[0;32m/opt/anaconda3/lib/python3.12/site-packages/dowhy/causal_estimators/econml.py:116\u001b[0m, in \u001b[0;36mEconml._estimate_effect\u001b[0;34m(self)\u001b[0m\n\u001b[1;32m    112\u001b[0m     estimator_data_args \u001b[38;5;241m=\u001b[39m {\n\u001b[1;32m    113\u001b[0m         arg: named_data_args[arg] \u001b[38;5;28;01mfor\u001b[39;00m arg \u001b[38;5;129;01min\u001b[39;00m named_data_args\u001b[38;5;241m.\u001b[39mkeys() \u001b[38;5;28;01mif\u001b[39;00m arg \u001b[38;5;129;01min\u001b[39;00m estimator_named_args\n\u001b[1;32m    114\u001b[0m         }\n\u001b[1;32m    115\u001b[0m     \u001b[38;5;28;01mif\u001b[39;00m \u001b[38;5;28mself\u001b[39m\u001b[38;5;241m.\u001b[39mmethod_params[\u001b[38;5;124m\"\u001b[39m\u001b[38;5;124mfit_params\u001b[39m\u001b[38;5;124m\"\u001b[39m] \u001b[38;5;129;01mis\u001b[39;00m \u001b[38;5;129;01mnot\u001b[39;00m \u001b[38;5;28;01mFalse\u001b[39;00m:\n\u001b[0;32m--> 116\u001b[0m         \u001b[38;5;28mself\u001b[39m\u001b[38;5;241m.\u001b[39mestimator\u001b[38;5;241m.\u001b[39mfit(\u001b[38;5;241m*\u001b[39m\u001b[38;5;241m*\u001b[39mestimator_data_args,\n\u001b[1;32m    117\u001b[0m                            \u001b[38;5;241m*\u001b[39m\u001b[38;5;241m*\u001b[39m\u001b[38;5;28mself\u001b[39m\u001b[38;5;241m.\u001b[39mmethod_params[\u001b[38;5;124m\"\u001b[39m\u001b[38;5;124mfit_params\u001b[39m\u001b[38;5;124m\"\u001b[39m])\n\u001b[1;32m    119\u001b[0m X_test \u001b[38;5;241m=\u001b[39m X\n\u001b[1;32m    120\u001b[0m n_target_units \u001b[38;5;241m=\u001b[39m n_samples\n",
      "File \u001b[0;32m/opt/anaconda3/lib/python3.12/site-packages/econml/dr/_drlearner.py:573\u001b[0m, in \u001b[0;36mDRLearner.fit\u001b[0;34m(self, Y, T, X, W, sample_weight, freq_weight, sample_var, groups, cache_values, inference)\u001b[0m\n\u001b[1;32m    536\u001b[0m \u001b[38;5;250m\u001b[39m\u001b[38;5;124;03m\"\"\"\u001b[39;00m\n\u001b[1;32m    537\u001b[0m \u001b[38;5;124;03mEstimate the counterfactual model from data, i.e. estimates function :math:`\\\\theta(\\\\cdot)`.\u001b[39;00m\n\u001b[1;32m    538\u001b[0m \n\u001b[0;32m   (...)\u001b[0m\n\u001b[1;32m    570\u001b[0m \u001b[38;5;124;03mself: DRLearner instance\u001b[39;00m\n\u001b[1;32m    571\u001b[0m \u001b[38;5;124;03m\"\"\"\u001b[39;00m\n\u001b[1;32m    572\u001b[0m \u001b[38;5;66;03m# Replacing fit from _OrthoLearner, to enforce Z=None and improve the docstring\u001b[39;00m\n\u001b[0;32m--> 573\u001b[0m \u001b[38;5;28;01mreturn\u001b[39;00m \u001b[38;5;28msuper\u001b[39m()\u001b[38;5;241m.\u001b[39mfit(Y, T, X\u001b[38;5;241m=\u001b[39mX, W\u001b[38;5;241m=\u001b[39mW,\n\u001b[1;32m    574\u001b[0m                    sample_weight\u001b[38;5;241m=\u001b[39msample_weight, freq_weight\u001b[38;5;241m=\u001b[39mfreq_weight, sample_var\u001b[38;5;241m=\u001b[39msample_var, groups\u001b[38;5;241m=\u001b[39mgroups,\n\u001b[1;32m    575\u001b[0m                    cache_values\u001b[38;5;241m=\u001b[39mcache_values, inference\u001b[38;5;241m=\u001b[39minference)\n",
      "File \u001b[0;32m/opt/anaconda3/lib/python3.12/site-packages/econml/_cate_estimator.py:131\u001b[0m, in \u001b[0;36mBaseCateEstimator._wrap_fit.<locals>.call\u001b[0;34m(self, Y, T, inference, *args, **kwargs)\u001b[0m\n\u001b[1;32m    129\u001b[0m     inference\u001b[38;5;241m.\u001b[39mprefit(\u001b[38;5;28mself\u001b[39m, Y, T, \u001b[38;5;241m*\u001b[39margs, \u001b[38;5;241m*\u001b[39m\u001b[38;5;241m*\u001b[39mkwargs)\n\u001b[1;32m    130\u001b[0m \u001b[38;5;66;03m# call the wrapped fit method\u001b[39;00m\n\u001b[0;32m--> 131\u001b[0m m(\u001b[38;5;28mself\u001b[39m, Y, T, \u001b[38;5;241m*\u001b[39margs, \u001b[38;5;241m*\u001b[39m\u001b[38;5;241m*\u001b[39mkwargs)\n\u001b[1;32m    132\u001b[0m \u001b[38;5;28mself\u001b[39m\u001b[38;5;241m.\u001b[39m_postfit(Y, T, \u001b[38;5;241m*\u001b[39margs, \u001b[38;5;241m*\u001b[39m\u001b[38;5;241m*\u001b[39mkwargs)\n\u001b[1;32m    133\u001b[0m \u001b[38;5;28;01mif\u001b[39;00m inference \u001b[38;5;129;01mis\u001b[39;00m \u001b[38;5;129;01mnot\u001b[39;00m \u001b[38;5;28;01mNone\u001b[39;00m:\n\u001b[1;32m    134\u001b[0m     \u001b[38;5;66;03m# NOTE: we call inference fit *after* calling the main fit method\u001b[39;00m\n",
      "File \u001b[0;32m/opt/anaconda3/lib/python3.12/site-packages/econml/_ortho_learner.py:877\u001b[0m, in \u001b[0;36m_OrthoLearner.fit\u001b[0;34m(self, Y, T, X, W, Z, sample_weight, freq_weight, sample_var, groups, cache_values, inference, only_final, check_input)\u001b[0m\n\u001b[1;32m    874\u001b[0m     \u001b[38;5;28;01melse\u001b[39;00m:  \u001b[38;5;66;03m# treatment featurizer case\u001b[39;00m\n\u001b[1;32m    875\u001b[0m         final_T \u001b[38;5;241m=\u001b[39m output_T\n\u001b[0;32m--> 877\u001b[0m \u001b[38;5;28mself\u001b[39m\u001b[38;5;241m.\u001b[39m_fit_final(Y\u001b[38;5;241m=\u001b[39mY,\n\u001b[1;32m    878\u001b[0m                 T\u001b[38;5;241m=\u001b[39mfinal_T,\n\u001b[1;32m    879\u001b[0m                 X\u001b[38;5;241m=\u001b[39mX, W\u001b[38;5;241m=\u001b[39mW, Z\u001b[38;5;241m=\u001b[39mZ,\n\u001b[1;32m    880\u001b[0m                 nuisances\u001b[38;5;241m=\u001b[39mnuisances,\n\u001b[1;32m    881\u001b[0m                 sample_weight\u001b[38;5;241m=\u001b[39msample_weight,\n\u001b[1;32m    882\u001b[0m                 freq_weight\u001b[38;5;241m=\u001b[39mfreq_weight,\n\u001b[1;32m    883\u001b[0m                 sample_var\u001b[38;5;241m=\u001b[39msample_var,\n\u001b[1;32m    884\u001b[0m                 groups\u001b[38;5;241m=\u001b[39mgroups)\n\u001b[1;32m    886\u001b[0m \u001b[38;5;28;01mreturn\u001b[39;00m \u001b[38;5;28mself\u001b[39m\n",
      "File \u001b[0;32m/opt/anaconda3/lib/python3.12/site-packages/econml/_ortho_learner.py:980\u001b[0m, in \u001b[0;36m_OrthoLearner._fit_final\u001b[0;34m(self, Y, T, X, W, Z, nuisances, sample_weight, freq_weight, sample_var, groups)\u001b[0m\n\u001b[1;32m    978\u001b[0m \u001b[38;5;28;01mdef\u001b[39;00m \u001b[38;5;21m_fit_final\u001b[39m(\u001b[38;5;28mself\u001b[39m, Y, T, X\u001b[38;5;241m=\u001b[39m\u001b[38;5;28;01mNone\u001b[39;00m, W\u001b[38;5;241m=\u001b[39m\u001b[38;5;28;01mNone\u001b[39;00m, Z\u001b[38;5;241m=\u001b[39m\u001b[38;5;28;01mNone\u001b[39;00m, nuisances\u001b[38;5;241m=\u001b[39m\u001b[38;5;28;01mNone\u001b[39;00m, sample_weight\u001b[38;5;241m=\u001b[39m\u001b[38;5;28;01mNone\u001b[39;00m,\n\u001b[1;32m    979\u001b[0m                freq_weight\u001b[38;5;241m=\u001b[39m\u001b[38;5;28;01mNone\u001b[39;00m, sample_var\u001b[38;5;241m=\u001b[39m\u001b[38;5;28;01mNone\u001b[39;00m, groups\u001b[38;5;241m=\u001b[39m\u001b[38;5;28;01mNone\u001b[39;00m):\n\u001b[0;32m--> 980\u001b[0m     \u001b[38;5;28mself\u001b[39m\u001b[38;5;241m.\u001b[39m_ortho_learner_model_final\u001b[38;5;241m.\u001b[39mfit(Y, T, \u001b[38;5;241m*\u001b[39m\u001b[38;5;241m*\u001b[39mfilter_none_kwargs(X\u001b[38;5;241m=\u001b[39mX, W\u001b[38;5;241m=\u001b[39mW, Z\u001b[38;5;241m=\u001b[39mZ,\n\u001b[1;32m    981\u001b[0m                                                                    nuisances\u001b[38;5;241m=\u001b[39mnuisances,\n\u001b[1;32m    982\u001b[0m                                                                    sample_weight\u001b[38;5;241m=\u001b[39msample_weight,\n\u001b[1;32m    983\u001b[0m                                                                    freq_weight\u001b[38;5;241m=\u001b[39mfreq_weight,\n\u001b[1;32m    984\u001b[0m                                                                    sample_var\u001b[38;5;241m=\u001b[39msample_var,\n\u001b[1;32m    985\u001b[0m                                                                    groups\u001b[38;5;241m=\u001b[39mgroups))\n\u001b[1;32m    986\u001b[0m     \u001b[38;5;28mself\u001b[39m\u001b[38;5;241m.\u001b[39mscore_ \u001b[38;5;241m=\u001b[39m \u001b[38;5;28;01mNone\u001b[39;00m\n\u001b[1;32m    987\u001b[0m     \u001b[38;5;28;01mif\u001b[39;00m \u001b[38;5;28mhasattr\u001b[39m(\u001b[38;5;28mself\u001b[39m\u001b[38;5;241m.\u001b[39m_ortho_learner_model_final, \u001b[38;5;124m'\u001b[39m\u001b[38;5;124mscore\u001b[39m\u001b[38;5;124m'\u001b[39m):\n",
      "File \u001b[0;32m/opt/anaconda3/lib/python3.12/site-packages/econml/dr/_drlearner.py:169\u001b[0m, in \u001b[0;36m_ModelFinal.fit\u001b[0;34m(self, Y, T, X, W, nuisances, sample_weight, freq_weight, sample_var, groups)\u001b[0m\n\u001b[1;32m    166\u001b[0m     weighted_sample_var \u001b[38;5;241m=\u001b[39m sample_var \u001b[38;5;241m/\u001b[39m propensities\u001b[38;5;241m*\u001b[39m\u001b[38;5;241m*\u001b[39m\u001b[38;5;241m2\u001b[39m \u001b[38;5;28;01mif\u001b[39;00m sample_var \u001b[38;5;129;01mis\u001b[39;00m \u001b[38;5;129;01mnot\u001b[39;00m \u001b[38;5;28;01mNone\u001b[39;00m \u001b[38;5;28;01melse\u001b[39;00m \u001b[38;5;28;01mNone\u001b[39;00m\n\u001b[1;32m    167\u001b[0m     filtered_kwargs \u001b[38;5;241m=\u001b[39m filter_none_kwargs(sample_weight\u001b[38;5;241m=\u001b[39msample_weight,\n\u001b[1;32m    168\u001b[0m                                          freq_weight\u001b[38;5;241m=\u001b[39mfreq_weight, sample_var\u001b[38;5;241m=\u001b[39mweighted_sample_var)\n\u001b[0;32m--> 169\u001b[0m     \u001b[38;5;28mself\u001b[39m\u001b[38;5;241m.\u001b[39mmodels_cate \u001b[38;5;241m=\u001b[39m [clone(\u001b[38;5;28mself\u001b[39m\u001b[38;5;241m.\u001b[39m_model_final, safe\u001b[38;5;241m=\u001b[39m\u001b[38;5;28;01mFalse\u001b[39;00m)\u001b[38;5;241m.\u001b[39mfit(X, Y_pred[\u001b[38;5;241m.\u001b[39m\u001b[38;5;241m.\u001b[39m\u001b[38;5;241m.\u001b[39m, t] \u001b[38;5;241m-\u001b[39m Y_pred[\u001b[38;5;241m.\u001b[39m\u001b[38;5;241m.\u001b[39m\u001b[38;5;241m.\u001b[39m, \u001b[38;5;241m0\u001b[39m],\n\u001b[1;32m    170\u001b[0m                                                                  \u001b[38;5;241m*\u001b[39m\u001b[38;5;241m*\u001b[39mfiltered_kwargs)\n\u001b[1;32m    171\u001b[0m                         \u001b[38;5;28;01mfor\u001b[39;00m t \u001b[38;5;129;01min\u001b[39;00m np\u001b[38;5;241m.\u001b[39marange(\u001b[38;5;241m1\u001b[39m, Y_pred\u001b[38;5;241m.\u001b[39mshape[\u001b[38;5;241m-\u001b[39m\u001b[38;5;241m1\u001b[39m])]\n\u001b[1;32m    172\u001b[0m \u001b[38;5;28;01mreturn\u001b[39;00m \u001b[38;5;28mself\u001b[39m\n",
      "File \u001b[0;32m/opt/anaconda3/lib/python3.12/site-packages/lightgbm/sklearn.py:1189\u001b[0m, in \u001b[0;36mLGBMRegressor.fit\u001b[0;34m(self, X, y, sample_weight, init_score, eval_set, eval_names, eval_sample_weight, eval_init_score, eval_metric, feature_name, categorical_feature, callbacks, init_model)\u001b[0m\n\u001b[1;32m   1172\u001b[0m \u001b[38;5;28;01mdef\u001b[39;00m \u001b[38;5;21mfit\u001b[39m(  \u001b[38;5;66;03m# type: ignore[override]\u001b[39;00m\n\u001b[1;32m   1173\u001b[0m     \u001b[38;5;28mself\u001b[39m,\n\u001b[1;32m   1174\u001b[0m     X: _LGBM_ScikitMatrixLike,\n\u001b[0;32m   (...)\u001b[0m\n\u001b[1;32m   1186\u001b[0m     init_model: Optional[Union[\u001b[38;5;28mstr\u001b[39m, Path, Booster, LGBMModel]] \u001b[38;5;241m=\u001b[39m \u001b[38;5;28;01mNone\u001b[39;00m,\n\u001b[1;32m   1187\u001b[0m ) \u001b[38;5;241m-\u001b[39m\u001b[38;5;241m>\u001b[39m \u001b[38;5;124m\"\u001b[39m\u001b[38;5;124mLGBMRegressor\u001b[39m\u001b[38;5;124m\"\u001b[39m:\n\u001b[1;32m   1188\u001b[0m \u001b[38;5;250m    \u001b[39m\u001b[38;5;124;03m\"\"\"Docstring is inherited from the LGBMModel.\"\"\"\u001b[39;00m\n\u001b[0;32m-> 1189\u001b[0m     \u001b[38;5;28msuper\u001b[39m()\u001b[38;5;241m.\u001b[39mfit(\n\u001b[1;32m   1190\u001b[0m         X,\n\u001b[1;32m   1191\u001b[0m         y,\n\u001b[1;32m   1192\u001b[0m         sample_weight\u001b[38;5;241m=\u001b[39msample_weight,\n\u001b[1;32m   1193\u001b[0m         init_score\u001b[38;5;241m=\u001b[39minit_score,\n\u001b[1;32m   1194\u001b[0m         eval_set\u001b[38;5;241m=\u001b[39meval_set,\n\u001b[1;32m   1195\u001b[0m         eval_names\u001b[38;5;241m=\u001b[39meval_names,\n\u001b[1;32m   1196\u001b[0m         eval_sample_weight\u001b[38;5;241m=\u001b[39meval_sample_weight,\n\u001b[1;32m   1197\u001b[0m         eval_init_score\u001b[38;5;241m=\u001b[39meval_init_score,\n\u001b[1;32m   1198\u001b[0m         eval_metric\u001b[38;5;241m=\u001b[39meval_metric,\n\u001b[1;32m   1199\u001b[0m         feature_name\u001b[38;5;241m=\u001b[39mfeature_name,\n\u001b[1;32m   1200\u001b[0m         categorical_feature\u001b[38;5;241m=\u001b[39mcategorical_feature,\n\u001b[1;32m   1201\u001b[0m         callbacks\u001b[38;5;241m=\u001b[39mcallbacks,\n\u001b[1;32m   1202\u001b[0m         init_model\u001b[38;5;241m=\u001b[39minit_model,\n\u001b[1;32m   1203\u001b[0m     )\n\u001b[1;32m   1204\u001b[0m     \u001b[38;5;28;01mreturn\u001b[39;00m \u001b[38;5;28mself\u001b[39m\n",
      "File \u001b[0;32m/opt/anaconda3/lib/python3.12/site-packages/lightgbm/sklearn.py:865\u001b[0m, in \u001b[0;36mLGBMModel.fit\u001b[0;34m(self, X, y, sample_weight, init_score, group, eval_set, eval_names, eval_sample_weight, eval_class_weight, eval_init_score, eval_group, eval_metric, feature_name, categorical_feature, callbacks, init_model)\u001b[0m\n\u001b[1;32m    862\u001b[0m params[\u001b[38;5;124m\"\u001b[39m\u001b[38;5;124mmetric\u001b[39m\u001b[38;5;124m\"\u001b[39m] \u001b[38;5;241m=\u001b[39m [metric \u001b[38;5;28;01mfor\u001b[39;00m metric \u001b[38;5;129;01min\u001b[39;00m params[\u001b[38;5;124m\"\u001b[39m\u001b[38;5;124mmetric\u001b[39m\u001b[38;5;124m\"\u001b[39m] \u001b[38;5;28;01mif\u001b[39;00m metric \u001b[38;5;129;01mis\u001b[39;00m \u001b[38;5;129;01mnot\u001b[39;00m \u001b[38;5;28;01mNone\u001b[39;00m]\n\u001b[1;32m    864\u001b[0m \u001b[38;5;28;01mif\u001b[39;00m \u001b[38;5;129;01mnot\u001b[39;00m \u001b[38;5;28misinstance\u001b[39m(X, (pd_DataFrame, dt_DataTable)):\n\u001b[0;32m--> 865\u001b[0m     _X, _y \u001b[38;5;241m=\u001b[39m _LGBMCheckXY(X, y, accept_sparse\u001b[38;5;241m=\u001b[39m\u001b[38;5;28;01mTrue\u001b[39;00m, force_all_finite\u001b[38;5;241m=\u001b[39m\u001b[38;5;28;01mFalse\u001b[39;00m, ensure_min_samples\u001b[38;5;241m=\u001b[39m\u001b[38;5;241m2\u001b[39m)\n\u001b[1;32m    866\u001b[0m     \u001b[38;5;28;01mif\u001b[39;00m sample_weight \u001b[38;5;129;01mis\u001b[39;00m \u001b[38;5;129;01mnot\u001b[39;00m \u001b[38;5;28;01mNone\u001b[39;00m:\n\u001b[1;32m    867\u001b[0m         sample_weight \u001b[38;5;241m=\u001b[39m _LGBMCheckSampleWeight(sample_weight, _X)\n",
      "File \u001b[0;32m/opt/anaconda3/lib/python3.12/site-packages/sklearn/utils/validation.py:1263\u001b[0m, in \u001b[0;36mcheck_X_y\u001b[0;34m(X, y, accept_sparse, accept_large_sparse, dtype, order, copy, force_all_finite, ensure_2d, allow_nd, multi_output, ensure_min_samples, ensure_min_features, y_numeric, estimator)\u001b[0m\n\u001b[1;32m   1258\u001b[0m         estimator_name \u001b[38;5;241m=\u001b[39m _check_estimator_name(estimator)\n\u001b[1;32m   1259\u001b[0m     \u001b[38;5;28;01mraise\u001b[39;00m \u001b[38;5;167;01mValueError\u001b[39;00m(\n\u001b[1;32m   1260\u001b[0m         \u001b[38;5;124mf\u001b[39m\u001b[38;5;124m\"\u001b[39m\u001b[38;5;132;01m{\u001b[39;00mestimator_name\u001b[38;5;132;01m}\u001b[39;00m\u001b[38;5;124m requires y to be passed, but the target y is None\u001b[39m\u001b[38;5;124m\"\u001b[39m\n\u001b[1;32m   1261\u001b[0m     )\n\u001b[0;32m-> 1263\u001b[0m X \u001b[38;5;241m=\u001b[39m check_array(\n\u001b[1;32m   1264\u001b[0m     X,\n\u001b[1;32m   1265\u001b[0m     accept_sparse\u001b[38;5;241m=\u001b[39maccept_sparse,\n\u001b[1;32m   1266\u001b[0m     accept_large_sparse\u001b[38;5;241m=\u001b[39maccept_large_sparse,\n\u001b[1;32m   1267\u001b[0m     dtype\u001b[38;5;241m=\u001b[39mdtype,\n\u001b[1;32m   1268\u001b[0m     order\u001b[38;5;241m=\u001b[39morder,\n\u001b[1;32m   1269\u001b[0m     copy\u001b[38;5;241m=\u001b[39mcopy,\n\u001b[1;32m   1270\u001b[0m     force_all_finite\u001b[38;5;241m=\u001b[39mforce_all_finite,\n\u001b[1;32m   1271\u001b[0m     ensure_2d\u001b[38;5;241m=\u001b[39mensure_2d,\n\u001b[1;32m   1272\u001b[0m     allow_nd\u001b[38;5;241m=\u001b[39mallow_nd,\n\u001b[1;32m   1273\u001b[0m     ensure_min_samples\u001b[38;5;241m=\u001b[39mensure_min_samples,\n\u001b[1;32m   1274\u001b[0m     ensure_min_features\u001b[38;5;241m=\u001b[39mensure_min_features,\n\u001b[1;32m   1275\u001b[0m     estimator\u001b[38;5;241m=\u001b[39mestimator,\n\u001b[1;32m   1276\u001b[0m     input_name\u001b[38;5;241m=\u001b[39m\u001b[38;5;124m\"\u001b[39m\u001b[38;5;124mX\u001b[39m\u001b[38;5;124m\"\u001b[39m,\n\u001b[1;32m   1277\u001b[0m )\n\u001b[1;32m   1279\u001b[0m y \u001b[38;5;241m=\u001b[39m _check_y(y, multi_output\u001b[38;5;241m=\u001b[39mmulti_output, y_numeric\u001b[38;5;241m=\u001b[39my_numeric, estimator\u001b[38;5;241m=\u001b[39mestimator)\n\u001b[1;32m   1281\u001b[0m check_consistent_length(X, y)\n",
      "File \u001b[0;32m/opt/anaconda3/lib/python3.12/site-packages/sklearn/utils/validation.py:1012\u001b[0m, in \u001b[0;36mcheck_array\u001b[0;34m(array, accept_sparse, accept_large_sparse, dtype, order, copy, force_all_finite, ensure_2d, allow_nd, ensure_min_samples, ensure_min_features, estimator, input_name)\u001b[0m\n\u001b[1;32m   1009\u001b[0m \u001b[38;5;28;01mif\u001b[39;00m ensure_2d:\n\u001b[1;32m   1010\u001b[0m     \u001b[38;5;66;03m# If input is scalar raise error\u001b[39;00m\n\u001b[1;32m   1011\u001b[0m     \u001b[38;5;28;01mif\u001b[39;00m array\u001b[38;5;241m.\u001b[39mndim \u001b[38;5;241m==\u001b[39m \u001b[38;5;241m0\u001b[39m:\n\u001b[0;32m-> 1012\u001b[0m         \u001b[38;5;28;01mraise\u001b[39;00m \u001b[38;5;167;01mValueError\u001b[39;00m(\n\u001b[1;32m   1013\u001b[0m             \u001b[38;5;124m\"\u001b[39m\u001b[38;5;124mExpected 2D array, got scalar array instead:\u001b[39m\u001b[38;5;130;01m\\n\u001b[39;00m\u001b[38;5;124marray=\u001b[39m\u001b[38;5;132;01m{}\u001b[39;00m\u001b[38;5;124m.\u001b[39m\u001b[38;5;130;01m\\n\u001b[39;00m\u001b[38;5;124m\"\u001b[39m\n\u001b[1;32m   1014\u001b[0m             \u001b[38;5;124m\"\u001b[39m\u001b[38;5;124mReshape your data either using array.reshape(-1, 1) if \u001b[39m\u001b[38;5;124m\"\u001b[39m\n\u001b[1;32m   1015\u001b[0m             \u001b[38;5;124m\"\u001b[39m\u001b[38;5;124myour data has a single feature or array.reshape(1, -1) \u001b[39m\u001b[38;5;124m\"\u001b[39m\n\u001b[1;32m   1016\u001b[0m             \u001b[38;5;124m\"\u001b[39m\u001b[38;5;124mif it contains a single sample.\u001b[39m\u001b[38;5;124m\"\u001b[39m\u001b[38;5;241m.\u001b[39mformat(array)\n\u001b[1;32m   1017\u001b[0m         )\n\u001b[1;32m   1018\u001b[0m     \u001b[38;5;66;03m# If input is 1D raise error\u001b[39;00m\n\u001b[1;32m   1019\u001b[0m     \u001b[38;5;28;01mif\u001b[39;00m array\u001b[38;5;241m.\u001b[39mndim \u001b[38;5;241m==\u001b[39m \u001b[38;5;241m1\u001b[39m:\n\u001b[1;32m   1020\u001b[0m         \u001b[38;5;66;03m# If input is a Series-like object (eg. pandas Series or polars Series)\u001b[39;00m\n",
      "\u001b[0;31mValueError\u001b[0m: Expected 2D array, got scalar array instead:\narray=None.\nReshape your data either using array.reshape(-1, 1) if your data has a single feature or array.reshape(1, -1) if it contains a single sample."
     ]
    }
   ],
   "source": [
    "# Get estimate (Doubly robust)\n",
    "estimate = model.estimate_effect(\n",
    "    identified_estimand=estimand,\n",
    "    method_name='backdoor.econml.dr.DRLearner',\n",
    "    target_units='ate',\n",
    "    method_params={\n",
    "        'init_params': {\n",
    "            'model_propensity': LogisticRegression(),\n",
    "            'model_regression': LGBMRegressor(n_estimators=1000, max_depth=10),\n",
    "            'model_final': LGBMRegressor(n_estimators=500, max_depth=10),\n",
    "        },\n",
    "        'fit_params': {}\n",
    "    })"
   ]
  },
  {
   "cell_type": "code",
   "execution_count": 29,
   "id": "44a571b9-dba0-40a6-9d06-4d6c5dc34eaf",
   "metadata": {},
   "outputs": [
    {
     "data": {
      "image/png": "[encoded data removed]",
      "text/latex": [
       "$\\displaystyle -0.717975192301893$"
      ],
      "text/plain": [
       "-0.7179751923018926"
      ]
     },
     "execution_count": 29,
     "metadata": {},
     "output_type": "execute_result"
    }
   ],
   "source": [
    "estimate.cate_estimates.mean()"
   ]
  },
  {
   "cell_type": "markdown",
   "id": "c9ac4c70-a6c0-4633-8200-1a59d7cac557",
   "metadata": {},
   "source": [
    "# IPW"
   ]
  },
  {
   "cell_type": "markdown",
   "id": "278c9401-171b-4ee9-9c93-3c7b54b15363",
   "metadata": {},
   "source": [
    "## Propensity Score Estimation (ALL OBSERVATIONS)"
   ]
  },
  {
   "cell_type": "code",
   "execution_count": null,
   "id": "90bcae16-7bcd-49e2-a110-1798c420777f",
   "metadata": {},
   "outputs": [],
   "source": [
    "##Incorporating fixed effects into PS logistic regression\n",
    "\n",
    "from sklearn.linear_model import LogisticRegression\n",
    "from sklearn.preprocessing import OneHotEncoder\n",
    "from sklearn.compose import ColumnTransformer\n",
    "from sklearn.pipeline import Pipeline\n",
    "\n",
    "# Assuming `data` is a DataFrame with 'response', 'predictor1', 'predictor2', 'year', and 'cluster' columns\n",
    "X = df_main[['num_words', 'num_char', 'long_tail', 'branded', 'numberofresults', 'own_branded', 'other_branded', 'year']]  # predictors, including fixed effect variables\n",
    "T = df_main['HHI_binary']  # the response variable for logistic regression\n",
    "\n",
    "# Pipeline to encode the two fixed effect variables and fit logistic regression\n",
    "pipeline = Pipeline(steps=[\n",
    "    # Step 1: Apply one-hot encoding to the fixed effect variables (year and cluster)\n",
    "    ('onehot', ColumnTransformer(\n",
    "        transformers=[\n",
    "            ('year_fe', OneHotEncoder(drop='first'), ['year']),        # Encode 'year' fixed effect\n",
    "            #('cluster_fe', OneHotEncoder(drop='first'), ['cluster'])   # Encode 'cluster' fixed effect\n",
    "        ],\n",
    "        remainder='passthrough')),  # leaves other columns (predictors) untouched\n",
    "\n",
    "    # Step 2: Fit logistic regression on the transformed data\n",
    "    ('logit', LogisticRegression(max_iter=10000))\n",
    "])\n",
    "\n",
    "# Fit the pipeline to the data\n",
    "logistic = pipeline.fit(X, T)"
   ]
  },
  {
   "cell_type": "code",
   "execution_count": null,
   "id": "884413b4-f02f-4403-a9b7-eb5d326a3b12",
   "metadata": {},
   "outputs": [],
   "source": [
    "from sklearn.linear_model import LogisticRegression\n",
    "\n",
    "df_main['HHI_binary'] = df_main['HHI_binary'].astype(int)\n",
    "\n",
    "T = 'HHI_binary'\n",
    "Y = 'logr_hat'\n",
    "X = df_main.columns.drop(['newhclust', 'numind', 'cluster', T, Y])\n",
    "\n",
    "ps_model = LogisticRegression(C=1e6).fit(df_main[X], df_main[T])\n",
    "#ps_model = logistic\n",
    "\n",
    "data_ps = df_main.assign(propensity_score=ps_model.predict_proba(df_main[X])[:, 1])\n",
    "\n",
    "#data_ps[[\"HHI_binary\", \"logr_hat\", \"propensity_score\"]].head()\n",
    "data_ps.head(10)"
   ]
  },
  {
   "cell_type": "code",
   "execution_count": null,
   "id": "13860a60-2603-4339-96bc-89e69ddd3c9f",
   "metadata": {},
   "outputs": [],
   "source": [
    "weight_t = 1/data_ps.query(\"HHI_binary==1\")[\"propensity_score\"]\n",
    "weight_nt = 1/(1-data_ps.query(\"HHI_binary==0\")[\"propensity_score\"])"
   ]
  },
  {
   "cell_type": "code",
   "execution_count": null,
   "id": "b71a34cd-e4b8-415e-8ba0-c58f67acf9b8",
   "metadata": {},
   "outputs": [],
   "source": [
    "sns.distplot(data_ps.query(\"HHI_binary==0\")[\"propensity_score\"], kde=False, label=\"Non Treated\")\n",
    "sns.distplot(data_ps.query(\"HHI_binary==1\")[\"propensity_score\"], kde=False, label=\"Treated\")\n",
    "plt.title(\"Positivity Check\")\n",
    "plt.legend();"
   ]
  },
  {
   "cell_type": "code",
   "execution_count": null,
   "id": "baf87486-533a-451e-b00a-0bc8f72b4a8f",
   "metadata": {},
   "outputs": [],
   "source": [
    "weight = ((data_ps[\"HHI_binary\"]-data_ps[\"propensity_score\"]) /\n",
    "          (data_ps[\"propensity_score\"]*(1-data_ps[\"propensity_score\"])))\n",
    "\n",
    "y1 = sum(data_ps.query(\"HHI_binary==1\")[\"logr_hat\"]*weight_t) / len(data_ps)\n",
    "y0 = sum(data_ps.query(\"HHI_binary==0\")[\"logr_hat\"]*weight_nt) / len(data_ps)\n",
    "\n",
    "ate = np.mean(weight * data_ps[\"logr_hat\"])\n",
    "\n",
    "print(\"Y1:\", y1)\n",
    "print(\"Y0:\", y0)\n",
    "print(\"ATE\", ate)"
   ]
  },
  {
   "cell_type": "markdown",
   "id": "6ce206bf-5979-462d-a25e-ce21933f6e95",
   "metadata": {},
   "source": [
    "## Propensity Score Estimation (Pre-treatment)"
   ]
  },
  {
   "cell_type": "code",
   "execution_count": null,
   "id": "b097226d-a3ad-4515-a791-71b6fcf699ab",
   "metadata": {},
   "outputs": [],
   "source": [
    "##Incorporating fixed effects into PS logistic regression\n",
    "\n",
    "from sklearn.linear_model import LogisticRegression\n",
    "from sklearn.preprocessing import OneHotEncoder\n",
    "from sklearn.compose import ColumnTransformer\n",
    "from sklearn.pipeline import Pipeline\n",
    "from sklearn.preprocessing import PolynomialFeatures\n",
    "\n",
    "# Assuming `data` is a DataFrame with 'response', 'predictor1', 'predictor2', 'year', and 'cluster' columns\n",
    "X = df_main_pre[['num_words', 'num_char', 'long_tail', 'branded', 'numberofresults', 'own_branded', 'other_branded', 'year']]  # predictors, including fixed effect variables\n",
    "\n",
    "T = df_main_pre['HHI_binary']  # the response variable for logistic regression\n",
    "\n",
    "# Pipeline to encode the two fixed effect variables and fit logistic regression\n",
    "pipeline = Pipeline(steps=[\n",
    "    # Step 1: Apply one-hot encoding to the fixed effect variables (year and cluster)\n",
    "    ('onehot', ColumnTransformer(\n",
    "        transformers=[\n",
    "            ('year_fe', OneHotEncoder(drop='first'), ['year']),        # Encode 'year' fixed effect\n",
    "            #('cluster_fe', OneHotEncoder(drop='first'), ['cluster'])   # Encode 'cluster' fixed effect\n",
    "        ],\n",
    "        remainder='passthrough')),  # leaves other columns (predictors) untouched\n",
    "\n",
    "    # Step 2: Fit logistic regression on the transformed data\n",
    "    ('logit', LogisticRegression(max_iter=10000))\n",
    "])\n",
    "\n",
    "# Fit the pipeline to the data\n",
    "logistic = pipeline.fit(X, T)"
   ]
  },
  {
   "cell_type": "code",
   "execution_count": null,
   "id": "e30b7fd1-d79e-46a9-8351-b8c6fecaa8fb",
   "metadata": {},
   "outputs": [],
   "source": [
    "from sklearn.linear_model import LogisticRegression\n",
    "\n",
    "df_main_pre['HHI_binary'] = df_main_pre['HHI_binary'].astype(int)\n",
    "\n",
    "T = 'HHI_binary'\n",
    "Y = 'logr_hat'\n",
    "X = df_main_pre.columns.drop(['newhclust', 'cluster', 'numind', T, Y])\n",
    "\n",
    "ps_model = LogisticRegression(C=1e6).fit(df_main_pre[X], df_main_pre[T])\n",
    "#ps_model = logistic\n",
    "\n",
    "data_ps = df_main_pre.assign(propensity_score=ps_model.predict_proba(df_main_pre[X])[:, 1])\n",
    "\n",
    "#data_ps[[\"HHI_binary\", \"logr_hat\", \"propensity_score\"]].head()\n",
    "data_ps.head(10)"
   ]
  },
  {
   "cell_type": "code",
   "execution_count": null,
   "id": "b1c420ab-eb0f-4f78-acb0-729354a39b0f",
   "metadata": {},
   "outputs": [],
   "source": [
    "weight_t = 1/data_ps.query(\"HHI_binary==1\")[\"propensity_score\"]\n",
    "weight_nt = 1/(1-data_ps.query(\"HHI_binary==0\")[\"propensity_score\"])"
   ]
  },
  {
   "cell_type": "code",
   "execution_count": null,
   "id": "e6a26c10-059c-4c81-9ad1-6058d1e71734",
   "metadata": {},
   "outputs": [],
   "source": [
    "sns.distplot(data_ps.query(\"HHI_binary==0\")[\"propensity_score\"], kde=False, label=\"Non Treated\")\n",
    "sns.distplot(data_ps.query(\"HHI_binary==1\")[\"propensity_score\"], kde=False, label=\"Treated\")\n",
    "plt.title(\"Positivity Check\")\n",
    "plt.legend();"
   ]
  },
  {
   "cell_type": "code",
   "execution_count": null,
   "id": "a58a7fab-600d-49cf-a2de-694cd5f0a5e3",
   "metadata": {},
   "outputs": [],
   "source": [
    "weight = ((data_ps[\"HHI_binary\"]-data_ps[\"propensity_score\"]) /\n",
    "          (data_ps[\"propensity_score\"]*(1-data_ps[\"propensity_score\"])))\n",
    "\n",
    "y1 = sum(data_ps.query(\"HHI_binary==1\")[\"logr_hat\"]*weight_t) / len(data_ps)\n",
    "y0 = sum(data_ps.query(\"HHI_binary==0\")[\"logr_hat\"]*weight_nt) / len(data_ps)\n",
    "\n",
    "ate = np.mean(weight * data_ps[\"logr_hat\"])\n",
    "\n",
    "print(\"Y1:\", y1)\n",
    "print(\"Y0:\", y0)\n",
    "print(\"ATE\", ate)"
   ]
  },
  {
   "cell_type": "markdown",
   "id": "47abf6d1-4721-430a-873a-0b882c8abbd0",
   "metadata": {},
   "source": [
    "## Propensity Score Estimation (t=0)(2015)"
   ]
  },
  {
   "cell_type": "code",
   "execution_count": null,
   "id": "0e75a8c2-8b19-4ea8-9399-5f0dec614545",
   "metadata": {},
   "outputs": [],
   "source": [
    "##Incorporating fixed effects into PS logistic regression\n",
    "\n",
    "from sklearn.linear_model import LogisticRegression\n",
    "from sklearn.preprocessing import OneHotEncoder\n",
    "from sklearn.compose import ColumnTransformer\n",
    "from sklearn.pipeline import Pipeline\n",
    "from sklearn.preprocessing import PolynomialFeatures\n",
    "\n",
    "# Assuming `data` is a DataFrame with 'response', 'predictor1', 'predictor2', 'year', and 'cluster' columns\n",
    "X = df_main_t0[['num_words', 'num_char', 'long_tail', 'branded', 'numind', 'numberofresults', 'own_branded', 'other_branded', 'year', 'cluster']]  # predictors, including fixed effect variables\n",
    "T = df_main_t0['HHI_binary']  # the response variable for logistic regression\n",
    "\n",
    "# Pipeline to encode the two fixed effect variables and fit logistic regression\n",
    "pipeline = Pipeline(steps=[\n",
    "    # Step 1: Apply one-hot encoding to the fixed effect variables (year and cluster)\n",
    "    ('onehot', ColumnTransformer(\n",
    "        transformers=[  \n",
    "            ('cluster_fe', OneHotEncoder(drop='first'), ['cluster'])   # Encode 'cluster' fixed effect\n",
    "        ],\n",
    "        remainder='passthrough')),  # leaves other columns (predictors) untouched\n",
    "\n",
    "    # Step 2: Fit logistic regression on the transformed data\n",
    "    ('logit', LogisticRegression(max_iter=10000))\n",
    "])\n",
    "\n",
    "# Fit the pipeline to the data\n",
    "logistic = pipeline.fit(X, T)"
   ]
  },
  {
   "cell_type": "code",
   "execution_count": null,
   "id": "009b373d-a8f6-407a-93b2-468e9af08222",
   "metadata": {},
   "outputs": [],
   "source": [
    "from sklearn.linear_model import LogisticRegression\n",
    "\n",
    "df_main_t0['HHI_binary'] = df_main_t0['HHI_binary'].astype(int)\n",
    "\n",
    "T = 'HHI_binary'\n",
    "Y = 'logr_hat'\n",
    "X = df_main_t0.columns.drop(['newhclust', 'cluster', 'numind', T, Y])\n",
    "\n",
    "ps_model = LogisticRegression(C=1e6).fit(df_main_t0[X], df_main_t0[T])\n",
    "#ps_model = logistic\n",
    "\n",
    "data_ps = df_main_t0.assign(propensity_score=ps_model.predict_proba(df_main_t0[X])[:, 1])\n",
    "\n",
    "#data_ps[[\"HHI_binary\", \"logr_hat\", \"propensity_score\"]].head()\n",
    "data_ps.head(10)"
   ]
  },
  {
   "cell_type": "code",
   "execution_count": null,
   "id": "c632fdbb-0ea1-4d56-8b72-1a3cff27a48c",
   "metadata": {},
   "outputs": [],
   "source": [
    "weight_t = 1/data_ps.query(\"HHI_binary==1\")[\"propensity_score\"]\n",
    "weight_nt = 1/(1-data_ps.query(\"HHI_binary==0\")[\"propensity_score\"])"
   ]
  },
  {
   "cell_type": "code",
   "execution_count": null,
   "id": "3b923591-4088-472d-b19f-143c67d53b4a",
   "metadata": {},
   "outputs": [],
   "source": [
    "sns.distplot(data_ps.query(\"HHI_binary==0\")[\"propensity_score\"], kde=False, label=\"Non Treated\")\n",
    "sns.distplot(data_ps.query(\"HHI_binary==1\")[\"propensity_score\"], kde=False, label=\"Treated\")\n",
    "plt.title(\"Positivity Check\")\n",
    "plt.legend();"
   ]
  },
  {
   "cell_type": "code",
   "execution_count": null,
   "id": "e5227f25-5b56-4aa6-a25c-6944d753c714",
   "metadata": {},
   "outputs": [],
   "source": [
    "weight = ((data_ps[\"HHI_binary\"]-data_ps[\"propensity_score\"]) /\n",
    "          (data_ps[\"propensity_score\"]*(1-data_ps[\"propensity_score\"])))\n",
    "\n",
    "y1 = sum(data_ps.query(\"HHI_binary==1\")[\"logr_hat\"]*weight_t) / len(data_ps)\n",
    "y0 = sum(data_ps.query(\"HHI_binary==0\")[\"logr_hat\"]*weight_nt) / len(data_ps)\n",
    "\n",
    "ate = np.mean(weight * data_ps[\"logr_hat\"])\n",
    "\n",
    "print(\"Y1:\", y1)\n",
    "print(\"Y0:\", y0)\n",
    "print(\"ATE\", ate)"
   ]
  },
  {
   "cell_type": "markdown",
   "id": "6a2d0c70-9ba7-418b-986e-4fac0d5b9a39",
   "metadata": {},
   "source": [
    "# Meta-Learners - Binary"
   ]
  },
  {
   "cell_type": "code",
   "execution_count": null,
   "id": "a7af00c3-8fb7-4c27-9cda-ab6232123ef2",
   "metadata": {},
   "outputs": [],
   "source": [
    "from toolz import curry\n",
    "\n",
    "@curry\n",
    "def elast(data, y, t):\n",
    "    return (np.sum((data[t] - data[t].mean())*(data[y] - data[y].mean())) /\n",
    "            np.sum((data[t] - data[t].mean())**2))\n",
    "\n",
    "def cumulative_gain(dataset, prediction, y, t, min_periods=30, steps=100):\n",
    "    size = dataset.shape[0]\n",
    "    ordered_df = dataset.sort_values(prediction, ascending=False).reset_index(drop=True)\n",
    "    n_rows = list(range(min_periods, size, size // steps)) + [size]\n",
    "    return np.array([elast(ordered_df.head(rows), y, t) * (rows/size) for rows in n_rows])"
   ]
  },
  {
   "cell_type": "code",
   "execution_count": null,
   "id": "ec05d47c-8f7b-4c3d-83be-f78977b6f250",
   "metadata": {},
   "outputs": [],
   "source": [
    "df_main.head()\n",
    "X = df_main.drop(columns=['logr_hat', 'newhclust', 'HHI_binary'])\n",
    "X_cols = print(list(X.columns))\n",
    "\n",
    "y = \"logr_hat\"\n",
    "T = \"HHI_binary\"\n",
    "X = ['year', 'num_words', 'num_char', 'long_tail', 'branded', 'numind', 'numberofresults', 'cluster', 'own_branded', 'other_branded']"
   ]
  },
  {
   "cell_type": "code",
   "execution_count": null,
   "id": "949100a8-8643-4f5c-906b-5942eaf630f0",
   "metadata": {},
   "outputs": [],
   "source": [
    "from sklearn.model_selection import train_test_split\n",
    "\n",
    "train, test = train_test_split(df_main, test_size=0.2, random_state=42)"
   ]
  },
  {
   "cell_type": "markdown",
   "id": "82cee151-d780-4661-967e-e9cdc3ec7521",
   "metadata": {},
   "source": [
    "## S-Learner"
   ]
  },
  {
   "cell_type": "code",
   "execution_count": null,
   "id": "0b240bc9-8315-468d-b7d2-03490a9c50d1",
   "metadata": {},
   "outputs": [],
   "source": [
    "from lightgbm import LGBMRegressor\n",
    "\n",
    "np.random.seed(123)\n",
    "s_learner = LGBMRegressor(max_depth=3, min_child_samples=30)\n",
    "s_learner.fit(train[X+[T]], train[y]);"
   ]
  },
  {
   "cell_type": "code",
   "execution_count": null,
   "id": "0b780397-36e6-4bf5-b11f-1c310e25030c",
   "metadata": {},
   "outputs": [],
   "source": [
    "s_learner_cate_train = (s_learner.predict(train[X].assign(**{T: 1})) -\n",
    "                        s_learner.predict(train[X].assign(**{T: 0})))\n",
    "\n",
    "s_learner_cate_test = test.assign(\n",
    "    cate=(s_learner.predict(test[X].assign(**{T: 1})) - # predict under treatment\n",
    "          s_learner.predict(test[X].assign(**{T: 0}))) # predict under control\n",
    ")"
   ]
  },
  {
   "cell_type": "code",
   "execution_count": null,
   "id": "bae468ac-d4cf-4c5f-9101-55dbaa69fcbd",
   "metadata": {},
   "outputs": [],
   "source": [
    "gain_curve_test = cumulative_gain(s_learner_cate_test, \"cate\", y=\"logr_hat\", t=\"HHI_binary\")\n",
    "gain_curve_train = cumulative_gain(train.assign(cate=s_learner_cate_train), \"cate\", y=\"logr_hat\", t=\"HHI_binary\")\n",
    "plt.plot(gain_curve_test, color=\"C0\", label=\"Test\")\n",
    "plt.plot(gain_curve_train, color=\"C1\", label=\"Train\")\n",
    "plt.plot([0, 100], [0, elast(test, \"logr_hat\", \"HHI_binary\")], linestyle=\"--\", color=\"black\", label=\"Baseline\")\n",
    "plt.legend()\n",
    "plt.title(\"S-Learner\");\n",
    "#45 degree line is baseline, as good as random model. Maybe overfitting a little because Train is performing better than Test, \n",
    "#which is closer to the baseline."
   ]
  },
  {
   "cell_type": "markdown",
   "id": "16308fd8-6503-4209-a0f5-8e1013a30cd6",
   "metadata": {},
   "source": [
    "## T-Learner"
   ]
  },
  {
   "cell_type": "code",
   "execution_count": null,
   "id": "b48f4356-5892-4d78-848f-723dd2f5f2ed",
   "metadata": {},
   "outputs": [],
   "source": [
    "np.random.seed(123)\n",
    "\n",
    "m0 = LGBMRegressor(max_depth=2, min_child_samples=60)\n",
    "m1 = LGBMRegressor(max_depth=2, min_child_samples=60)\n",
    "\n",
    "m0.fit(train.query(f\"{T}==0\")[X], train.query(f\"{T}==0\")[y])\n",
    "m1.fit(train.query(f\"{T}==1\")[X], train.query(f\"{T}==1\")[y])\n",
    "\n",
    "# estimate the CATE\n",
    "t_learner_cate_train = m1.predict(train[X]) - m0.predict(train[X])\n",
    "t_learner_cate_test = test.assign(cate=m1.predict(test[X]) - m0.predict(test[X]))"
   ]
  },
  {
   "cell_type": "code",
   "execution_count": null,
   "id": "65855a1e-8095-4810-af5b-8117c6d0300c",
   "metadata": {},
   "outputs": [],
   "source": [
    "gain_curve_test = cumulative_gain(t_learner_cate_test, \"cate\", y=\"logr_hat\", t=\"HHI_binary\")\n",
    "gain_curve_train = cumulative_gain(train.assign(cate=t_learner_cate_train), \"cate\", y=\"logr_hat\", t=\"HHI_binary\")\n",
    "plt.plot(gain_curve_test, color=\"C0\", label=\"Test\")\n",
    "plt.plot(gain_curve_train, color=\"C1\", label=\"Train\")\n",
    "plt.plot([0, 100], [0, elast(test, \"logr_hat\", \"HHI_binary\")], linestyle=\"--\", color=\"black\", label=\"Baseline\")\n",
    "plt.legend();\n",
    "plt.title(\"T-Learner\");"
   ]
  },
  {
   "cell_type": "markdown",
   "id": "dd44dfe5-2ea1-46ad-a7ca-bc6e5713dc75",
   "metadata": {},
   "source": [
    "## X-Learner"
   ]
  },
  {
   "cell_type": "code",
   "execution_count": null,
   "id": "2bedd31b-4bc5-4974-a12d-c4dd05ac2916",
   "metadata": {},
   "outputs": [],
   "source": [
    "from sklearn.linear_model import LogisticRegression\n",
    "\n",
    "np.random.seed(123)\n",
    "\n",
    "# first stage models\n",
    "m0 = LGBMRegressor(max_depth=2, min_child_samples=30)\n",
    "m1 = LGBMRegressor(max_depth=2, min_child_samples=30)\n",
    "\n",
    "# propensity score model\n",
    "g = LogisticRegression(solver=\"lbfgs\", penalty=None) \n",
    "\n",
    "m0.fit(train.query(f\"{T}==0\")[X], train.query(f\"{T}==0\")[y])\n",
    "m1.fit(train.query(f\"{T}==1\")[X], train.query(f\"{T}==1\")[y])\n",
    "                       \n",
    "g.fit(train[X], train[T]);"
   ]
  },
  {
   "cell_type": "code",
   "execution_count": null,
   "id": "d273b87d-0e86-401c-9e65-bcf08c8314b3",
   "metadata": {
    "scrolled": true
   },
   "outputs": [],
   "source": [
    "d_train = np.where(train[T]==0,\n",
    "                   m1.predict(train[X]) - train[y],\n",
    "                   train[y] - m0.predict(train[X]))\n",
    "\n",
    "# second stage\n",
    "mx0 = LGBMRegressor(max_depth=2, min_child_samples=30)\n",
    "mx1 = LGBMRegressor(max_depth=2, min_child_samples=30)\n",
    "\n",
    "mx0.fit(train.query(f\"{T}==0\")[X], d_train[train[T]==0])\n",
    "mx1.fit(train.query(f\"{T}==1\")[X], d_train[train[T]==1]);"
   ]
  },
  {
   "cell_type": "code",
   "execution_count": null,
   "id": "9a17197e-82a2-41c5-9ba7-11783af4a4e8",
   "metadata": {},
   "outputs": [],
   "source": [
    "def ps_predict(df, t): \n",
    "    return g.predict_proba(df[X])[:, t]\n",
    "    \n",
    "x_cate_train = (ps_predict(train,1)*mx0.predict(train[X]) +\n",
    "                ps_predict(train,0)*mx1.predict(train[X]))\n",
    "\n",
    "x_cate_test = test.assign(cate=(ps_predict(test,1)*mx0.predict(test[X]) +\n",
    "                                ps_predict(test,0)*mx1.predict(test[X])))"
   ]
  },
  {
   "cell_type": "code",
   "execution_count": null,
   "id": "12ed2a2e-9c28-4a6a-a681-62c227095b93",
   "metadata": {},
   "outputs": [],
   "source": [
    "gain_curve_test = cumulative_gain(x_cate_test, \"cate\", y=\"logr_hat\", t=\"HHI_binary\")\n",
    "gain_curve_train = cumulative_gain(train.assign(cate=x_cate_train), \"cate\", y=\"logr_hat\", t=\"HHI_binary\")\n",
    "plt.plot(gain_curve_test, color=\"C0\", label=\"Test\")\n",
    "plt.plot(gain_curve_train, color=\"C1\", label=\"Train\")\n",
    "plt.plot([0, 100], [0, elast(test, \"logr_hat\", \"HHI_binary\")], linestyle=\"--\", color=\"black\", label=\"Baseline\")\n",
    "plt.legend();\n",
    "plt.title(\"X-Learner\");"
   ]
  },
  {
   "cell_type": "markdown",
   "id": "ad7fa228-f919-456e-a38c-32c18488d5cb",
   "metadata": {},
   "source": [
    "# Meta-Learners - Other"
   ]
  },
  {
   "cell_type": "markdown",
   "id": "c81228d7-f4aa-4288-8761-a0483d7ec99b",
   "metadata": {},
   "source": [
    "## S-Learner"
   ]
  },
  {
   "cell_type": "code",
   "execution_count": null,
   "id": "6dedb892-35bf-4b39-84ad-a4b7e9afd4c3",
   "metadata": {},
   "outputs": [],
   "source": [
    "df = pd.read_stata('./replication_sample.dta')\n",
    "df_main = df[df['main_sample']==1].copy()\n",
    "df_main = df_main.drop(columns=['allP_sample','main_sample','ind_sample','constant', 'logr_bar', 'r_hat', 'diffr_hat', 'HHI_bar', 'logcpc', 'logvol', 'lognum', 'timetoswitch', 'negative_HHIchange', 'shiftmerge', 'sapientmerge', 'merklemerge', 'forsmanmerge', 'evermerged'])\n",
    "\n",
    "y = \"logr_hat\"\n",
    "T = \"HHI_binary\"\n",
    "X = ['year', 'num_words', 'num_char', 'long_tail', 'branded', 'numind', 'numberofresults', 'cluster', 'own_branded', 'other_branded']"
   ]
  },
  {
   "cell_type": "code",
   "execution_count": null,
   "id": "de538df9-6ebc-46c4-913d-fe86fd846564",
   "metadata": {
    "scrolled": true
   },
   "outputs": [],
   "source": [
    "np.random.seed(123)\n",
    "\n",
    "m0 = LGBMRegressor(max_depth=2, min_child_samples=60)\n",
    "m1 = LGBMRegressor(max_depth=2, min_child_samples=60)\n",
    "\n",
    "m0.fit(train.query(f\"{T}==0\")[X], train.query(f\"{T}==0\")[y])\n",
    "m1.fit(train.query(f\"{T}==1\")[X], train.query(f\"{T}==1\")[y])\n",
    "\n",
    "# estimate the CATE\n",
    "t_learner_cate_train = m1.predict(train[X]) - m0.predict(train[X])\n",
    "t_learner_cate_test = test.assign(cate=m1.predict(test[X]) - m0.predict(test[X]))"
   ]
  },
  {
   "cell_type": "code",
   "execution_count": null,
   "id": "830a8085-3d9b-44ce-9612-9b3f5a6533ae",
   "metadata": {
    "scrolled": true
   },
   "outputs": [],
   "source": [
    "from lightgbm import LGBMRegressor\n",
    "\n",
    "np.random.seed(123)\n",
    "s_learner = LGBMRegressor(max_depth=3, min_child_samples=30)\n",
    "s_learner.fit(train[X+[T]], train[y]);"
   ]
  },
  {
   "cell_type": "code",
   "execution_count": null,
   "id": "efffb454-f944-4c35-844b-19e6dd7271de",
   "metadata": {},
   "outputs": [],
   "source": [
    "s_learner_cate_train = (s_learner.predict(train[X].assign(**{T: 1})) -\n",
    "                        s_learner.predict(train[X].assign(**{T: 0})))\n",
    "\n",
    "s_learner_cate_test = test.assign(\n",
    "    cate=(s_learner.predict(test[X].assign(**{T: 1})) - # predict under treatment\n",
    "          s_learner.predict(test[X].assign(**{T: 0}))) # predict under control\n",
    ")"
   ]
  },
  {
   "cell_type": "code",
   "execution_count": null,
   "id": "e74839a9-1ece-488c-a70d-3108ff4ff600",
   "metadata": {},
   "outputs": [],
   "source": [
    "gain_curve_test = cumulative_gain(s_learner_cate_test, \"cate\", y=\"logr_hat\", t=\"HHI_hat\")\n",
    "gain_curve_train = cumulative_gain(train.assign(cate=s_learner_cate_train), \"cate\", y=\"logr_hat\", t=\"HHI_hat\")\n",
    "plt.plot(gain_curve_test, color=\"C0\", label=\"Test\")\n",
    "plt.plot(gain_curve_train, color=\"C1\", label=\"Train\")\n",
    "plt.plot([0, 100], [0, elast(test, \"logr_hat\", \"HHI_hat\")], linestyle=\"--\", color=\"black\", label=\"Baseline\")\n",
    "plt.legend()\n",
    "plt.title(\"S-Learner\");\n",
    "#45 degree line is baseline, as good as random model. Maybe overfitting a little because Train is performing better than Test, \n",
    "#which is closer to the baseline."
   ]
  },
  {
   "cell_type": "markdown",
   "id": "735268a6-5239-4996-b922-0bf176293b3a",
   "metadata": {
    "jp-MarkdownHeadingCollapsed": true
   },
   "source": [
    "# T-Learner"
   ]
  },
  {
   "cell_type": "code",
   "execution_count": null,
   "id": "3e40d0aa-7f43-471c-aedd-ac28c2316e6e",
   "metadata": {},
   "outputs": [],
   "source": [
    "np.random.seed(123)\n",
    "\n",
    "m0 = LGBMRegressor(max_depth=2, min_child_samples=60)\n",
    "m1 = LGBMRegressor(max_depth=2, min_child_samples=60)\n",
    "\n",
    "m0.fit(train.query(f\"{T}==0\")[X], train.query(f\"{T}==0\")[y])\n",
    "m1.fit(train.query(f\"{T}==1\")[X], train.query(f\"{T}==1\")[y])\n",
    "\n",
    "# estimate the CATE\n",
    "t_learner_cate_train = m1.predict(train[X]) - m0.predict(train[X])\n",
    "t_learner_cate_test = test.assign(cate=m1.predict(test[X]) - m0.predict(test[X]))"
   ]
  },
  {
   "cell_type": "code",
   "execution_count": null,
   "id": "c650a095-15be-44a2-926e-4895a5dca885",
   "metadata": {},
   "outputs": [],
   "source": [
    "print(elast(test, \"logr_hat\", \"sim\"))"
   ]
  },
  {
   "cell_type": "markdown",
   "id": "bfe69256-ada6-4c1b-b4cb-1a4b17070635",
   "metadata": {},
   "source": [
    "# DR-Learner"
   ]
  },
  {
   "cell_type": "code",
   "execution_count": null,
   "id": "c1cdad87-b59e-4d01-aca8-6957760d7f9d",
   "metadata": {},
   "outputs": [],
   "source": [
    "! pip install econml -q\n",
    "\n",
    "df_main.head()"
   ]
  },
  {
   "cell_type": "code",
   "execution_count": null,
   "id": "851ee98d-73d0-4625-ac05-cd178f12c3c4",
   "metadata": {},
   "outputs": [],
   "source": [
    "def doubly_robust(df, X, T, Y):\n",
    "    ps = LogisticRegression(C=1e6, max_iter=1000).fit(df[X], df[T]).predict_proba(df[X])[:, 1]\n",
    "    mu0 = LGBMRegressor(n_estimators=1000, max_depth=10).fit(df.query(f\"{T}==0\")[X], df.query(f\"{T}==0\")[Y]).predict(df[X])\n",
    "    mu1 = LGBMRegressor(n_estimators=1000, max_depth=10).fit(df.query(f\"{T}==1\")[X], df.query(f\"{T}==1\")[Y]).predict(df[X])\n",
    "    return (\n",
    "        np.mean(df[T]*(df[Y] - mu1)/ps + mu1) -\n",
    "        np.mean((1-df[T])*(df[Y] - mu0)/(1-ps) + mu0)\n",
    "    )"
   ]
  },
  {
   "cell_type": "code",
   "execution_count": null,
   "id": "9f5c3d7d-d14a-4328-b081-7fdcb087500b",
   "metadata": {},
   "outputs": [],
   "source": [
    "Y = 'logr_hat'\n",
    "T = 'HHI_binary'\n",
    "X = df_main.columns.drop(['newhclust','cluster', 'numind', T, Y])\n",
    "#X = df_main.drop(columns=['newhclust','logr_hat','HHI_binary'])\n",
    "\n",
    "doubly_robust(df_main, X, T, Y)\n",
    "#print(Y)"
   ]
  },
  {
   "cell_type": "code",
   "execution_count": null,
   "id": "7d6ed64a-de43-4955-be29-dc3a6d9d06fa",
   "metadata": {
    "scrolled": true
   },
   "outputs": [],
   "source": [
    "from joblib import Parallel, delayed # for parallel processing\n",
    "\n",
    "np.random.seed(88)\n",
    "# run 1000 bootstrap samples\n",
    "bootstrap_sample = 100\n",
    "ates = Parallel(n_jobs=4)(delayed(doubly_robust)(df_main.sample(frac=1, replace=True), X, T, Y)\n",
    "                          for _ in range(bootstrap_sample))\n",
    "ates = np.array(ates)"
   ]
  },
  {
   "cell_type": "code",
   "execution_count": null,
   "id": "4650ee0d-f219-4a0d-a224-90eb6220a213",
   "metadata": {},
   "outputs": [],
   "source": [
    "print(f\"ATE 95% CI:\", (np.percentile(ates, 2.5), np.percentile(ates, 97.5)))"
   ]
  },
  {
   "cell_type": "code",
   "execution_count": null,
   "id": "ea2e8e5f-467e-4392-b037-b00156c674e3",
   "metadata": {},
   "outputs": [],
   "source": [
    "from sklearn.linear_model import LassoCV\n",
    "from econml.dr import LinearDRLearner\n",
    "from sklearn.dummy import DummyClassifier\n",
    "\n",
    "y = df_main['logr_hat']\n",
    "T = df_main['HHI_binary']\n",
    "X = df_main.drop(columns=['newhclust','logr_hat','HHI_binary'])\n",
    "\n",
    "# One can replace model_y and model_t with any scikit-learn regressor and classifier correspondingly\n",
    "# as long as it accepts the sample_weight keyword argument at fit time.\n",
    "est = LinearDRLearner(model_regression=LGBMRegressor(n_estimators=1000, max_depth=10),\n",
    "                      model_propensity=LogisticRegression(max_iter=1000))\n",
    "est.fit(y, T, X=X, W=None)"
   ]
  },
  {
   "cell_type": "code",
   "execution_count": null,
   "id": "4365fb3d-b231-4d42-a7a6-1faa057a5e98",
   "metadata": {},
   "outputs": [],
   "source": [
    "# Getting the confidence intervals of the coefficients of the CATE model; USE IN PROJECT - effect of variables on treatment effect\n",
    "# together with the corresponding feature names.\n",
    "feat_names = est.cate_feature_names(list(X.columns))\n",
    "point = est.coef_(T=1)\n",
    "lower, upper = np.array(est.coef__interval(T=1))\n",
    "yerr = np.zeros((2, point.shape[0]))\n",
    "yerr[0, :] = point - lower\n",
    "yerr[1, :] = upper - point\n",
    "\n",
    "with sns.axes_style(\"darkgrid\"):\n",
    "    fig, ax = plt.subplots(1,1)\n",
    "    x = np.arange(len(point))\n",
    "    plt.errorbar(x, point, yerr, fmt='o')\n",
    "    ax.set_xticks(x)\n",
    "    ax.set_xticklabels(feat_names, rotation='vertical', fontsize=18)\n",
    "    ax.set_ylabel('coef')\n",
    "    plt.show()"
   ]
  },
  {
   "cell_type": "code",
   "execution_count": null,
   "id": "4a4177f8-c2cc-416b-aa75-e6d8f9389ed8",
   "metadata": {},
   "outputs": [],
   "source": [
    "est.summary(T=1, feature_names=X.columns)"
   ]
  },
  {
   "cell_type": "code",
   "execution_count": null,
   "id": "dc932d69-5960-443e-8837-cfb11c468bee",
   "metadata": {},
   "outputs": [],
   "source": [
    "from econml.sklearn_extensions.linear_model import WeightedLassoCV\n",
    "from econml.dr import LinearDRLearner\n",
    "from sklearn.dummy import DummyClassifier\n",
    "from sklearn.preprocessing import PolynomialFeatures\n",
    "\n",
    "# One can replace model_y and model_t with any scikit-learn regressor and classifier correspondingly\n",
    "# as long as it accepts the sample_weight keyword argument at fit time.\n",
    "est = LinearDRLearner(model_regression=WeightedLassoCV(cv=3),\n",
    "                      model_propensity=LogisticRegression(),\n",
    "                      featurizer=PolynomialFeatures(degree=2, interaction_only=True, include_bias=False))\n",
    "#Polynomial Features: Interaction_only; no squared variables, just A*B, A*C, etc.\n",
    "est.fit(y, T, X=X, W=None)"
   ]
  },
  {
   "cell_type": "code",
   "execution_count": null,
   "id": "19b407f4-bff6-46d4-bf00-ce36ef8fe0bb",
   "metadata": {},
   "outputs": [],
   "source": [
    "# Getting the confidence intervals of the coefficients of the CATE model\n",
    "# together with the corresponding feature names.\n",
    "feat_names = est.cate_feature_names(X.columns)\n",
    "point = est.coef_(T=1)\n",
    "lower, upper = np.array(est.coef__interval(T=1, alpha=0.05))\n",
    "yerr = np.zeros((2, point.shape[0]))\n",
    "yerr[0, :] = point - lower\n",
    "yerr[1, :] = upper - point\n",
    "\n",
    "with sns.axes_style(\"darkgrid\"):\n",
    "    fig, ax = plt.subplots(1,1)\n",
    "    x = np.arange(len(point))\n",
    "    plt.errorbar(x, point, yerr, fmt='o')\n",
    "    ax.set_xticks(x)\n",
    "    ax.set_xticklabels(feat_names, rotation='vertical', fontsize=18)\n",
    "    ax.set_ylabel('coef')\n",
    "    plt.show()"
   ]
  },
  {
   "cell_type": "code",
   "execution_count": null,
   "id": "56c4ff68-0b5f-4874-9c69-e4fe83e44685",
   "metadata": {},
   "outputs": [],
   "source": [
    "from econml.dr import ForestDRLearner\n",
    "from sklearn.ensemble import GradientBoostingRegressor\n",
    "\n",
    "#dont use this propesnity model, this is purposely a mis-specificaiton to show double robustness\n",
    "\n",
    "est = ForestDRLearner(model_regression=GradientBoostingRegressor(),\n",
    "                      model_propensity=DummyClassifier(strategy='prior'),\n",
    "                      cv=5,\n",
    "                      n_estimators=1000,\n",
    "                      min_samples_leaf=10,#min 10 samples\n",
    "                      verbose=0, min_weight_fraction_leaf=.01) #min 1% of the total weight of all samples.\n",
    "est.fit(y, T, X=X)"
   ]
  },
  {
   "cell_type": "code",
   "execution_count": null,
   "id": "bb6012b9-6200-4cb3-8824-ce130057b8a1",
   "metadata": {},
   "outputs": [],
   "source": [
    "est.feature_importances_(T=1)"
   ]
  },
  {
   "cell_type": "code",
   "execution_count": null,
   "id": "a5a1ab63-15b8-4dab-bbdb-ffd1efe0f900",
   "metadata": {},
   "outputs": [],
   "source": [
    "# Getting the inference of the CATE at different X vector values\n",
    "est.effect_inference(X).summary_frame()"
   ]
  },
  {
   "cell_type": "code",
   "execution_count": null,
   "id": "c311d611-bd5a-43a7-9bce-7522d3d57b3e",
   "metadata": {},
   "outputs": [],
   "source": []
  }
 ],
 "metadata": {
  "kernelspec": {
   "display_name": "Python 3 (ipykernel)",
   "language": "python",
   "name": "python3"
  },
  "language_info": {
   "codemirror_mode": {
    "name": "ipython",
    "version": 3
   },
   "file_extension": ".py",
   "mimetype": "text/x-python",
   "name": "python",
   "nbconvert_exporter": "python",
   "pygments_lexer": "ipython3",
   "version": "3.12.4"
  }
 },
 "nbformat": 4,
 "nbformat_minor": 5
}
